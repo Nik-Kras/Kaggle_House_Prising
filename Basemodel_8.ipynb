{
 "cells": [
  {
   "attachments": {},
   "cell_type": "markdown",
   "metadata": {},
   "source": [
    "Improved version of BaseModel #7\n",
    "- TODO IN BASEMODEL 9 Log() transform is replaced with BoxCox transform for better distribution normalisation of more features\n",
    "- Adding new features with feature engineering (For zero-value features + Combine some features due to their relations)\n",
    "- Updated set of outliers from works of others"
   ]
  },
  {
   "cell_type": "code",
   "execution_count": 839,
   "metadata": {},
   "outputs": [],
   "source": [
    "import pandas as pd\n",
    "import numpy as np\n",
    "import matplotlib.pyplot as plt\n",
    "import seaborn as sns\n",
    "\n",
    "from scipy import stats\n",
    "from scipy.special import boxcox1p, inv_boxcox1p\n",
    "from scipy.stats import boxcox_normmax"
   ]
  },
  {
   "cell_type": "code",
   "execution_count": 840,
   "metadata": {},
   "outputs": [
    {
     "data": {
      "text/html": [
       "<div>\n",
       "<style scoped>\n",
       "    .dataframe tbody tr th:only-of-type {\n",
       "        vertical-align: middle;\n",
       "    }\n",
       "\n",
       "    .dataframe tbody tr th {\n",
       "        vertical-align: top;\n",
       "    }\n",
       "\n",
       "    .dataframe thead th {\n",
       "        text-align: right;\n",
       "    }\n",
       "</style>\n",
       "<table border=\"1\" class=\"dataframe\">\n",
       "  <thead>\n",
       "    <tr style=\"text-align: right;\">\n",
       "      <th></th>\n",
       "      <th>Id</th>\n",
       "      <th>MSSubClass</th>\n",
       "      <th>MSZoning</th>\n",
       "      <th>LotFrontage</th>\n",
       "      <th>LotArea</th>\n",
       "      <th>Street</th>\n",
       "      <th>Alley</th>\n",
       "      <th>LotShape</th>\n",
       "      <th>LandContour</th>\n",
       "      <th>Utilities</th>\n",
       "      <th>...</th>\n",
       "      <th>PoolArea</th>\n",
       "      <th>PoolQC</th>\n",
       "      <th>Fence</th>\n",
       "      <th>MiscFeature</th>\n",
       "      <th>MiscVal</th>\n",
       "      <th>MoSold</th>\n",
       "      <th>YrSold</th>\n",
       "      <th>SaleType</th>\n",
       "      <th>SaleCondition</th>\n",
       "      <th>SalePrice</th>\n",
       "    </tr>\n",
       "  </thead>\n",
       "  <tbody>\n",
       "    <tr>\n",
       "      <th>0</th>\n",
       "      <td>1</td>\n",
       "      <td>60</td>\n",
       "      <td>RL</td>\n",
       "      <td>65.0</td>\n",
       "      <td>8450</td>\n",
       "      <td>Pave</td>\n",
       "      <td>NaN</td>\n",
       "      <td>Reg</td>\n",
       "      <td>Lvl</td>\n",
       "      <td>AllPub</td>\n",
       "      <td>...</td>\n",
       "      <td>0</td>\n",
       "      <td>NaN</td>\n",
       "      <td>NaN</td>\n",
       "      <td>NaN</td>\n",
       "      <td>0</td>\n",
       "      <td>2</td>\n",
       "      <td>2008</td>\n",
       "      <td>WD</td>\n",
       "      <td>Normal</td>\n",
       "      <td>208500</td>\n",
       "    </tr>\n",
       "    <tr>\n",
       "      <th>1</th>\n",
       "      <td>2</td>\n",
       "      <td>20</td>\n",
       "      <td>RL</td>\n",
       "      <td>80.0</td>\n",
       "      <td>9600</td>\n",
       "      <td>Pave</td>\n",
       "      <td>NaN</td>\n",
       "      <td>Reg</td>\n",
       "      <td>Lvl</td>\n",
       "      <td>AllPub</td>\n",
       "      <td>...</td>\n",
       "      <td>0</td>\n",
       "      <td>NaN</td>\n",
       "      <td>NaN</td>\n",
       "      <td>NaN</td>\n",
       "      <td>0</td>\n",
       "      <td>5</td>\n",
       "      <td>2007</td>\n",
       "      <td>WD</td>\n",
       "      <td>Normal</td>\n",
       "      <td>181500</td>\n",
       "    </tr>\n",
       "    <tr>\n",
       "      <th>2</th>\n",
       "      <td>3</td>\n",
       "      <td>60</td>\n",
       "      <td>RL</td>\n",
       "      <td>68.0</td>\n",
       "      <td>11250</td>\n",
       "      <td>Pave</td>\n",
       "      <td>NaN</td>\n",
       "      <td>IR1</td>\n",
       "      <td>Lvl</td>\n",
       "      <td>AllPub</td>\n",
       "      <td>...</td>\n",
       "      <td>0</td>\n",
       "      <td>NaN</td>\n",
       "      <td>NaN</td>\n",
       "      <td>NaN</td>\n",
       "      <td>0</td>\n",
       "      <td>9</td>\n",
       "      <td>2008</td>\n",
       "      <td>WD</td>\n",
       "      <td>Normal</td>\n",
       "      <td>223500</td>\n",
       "    </tr>\n",
       "    <tr>\n",
       "      <th>3</th>\n",
       "      <td>4</td>\n",
       "      <td>70</td>\n",
       "      <td>RL</td>\n",
       "      <td>60.0</td>\n",
       "      <td>9550</td>\n",
       "      <td>Pave</td>\n",
       "      <td>NaN</td>\n",
       "      <td>IR1</td>\n",
       "      <td>Lvl</td>\n",
       "      <td>AllPub</td>\n",
       "      <td>...</td>\n",
       "      <td>0</td>\n",
       "      <td>NaN</td>\n",
       "      <td>NaN</td>\n",
       "      <td>NaN</td>\n",
       "      <td>0</td>\n",
       "      <td>2</td>\n",
       "      <td>2006</td>\n",
       "      <td>WD</td>\n",
       "      <td>Abnorml</td>\n",
       "      <td>140000</td>\n",
       "    </tr>\n",
       "    <tr>\n",
       "      <th>4</th>\n",
       "      <td>5</td>\n",
       "      <td>60</td>\n",
       "      <td>RL</td>\n",
       "      <td>84.0</td>\n",
       "      <td>14260</td>\n",
       "      <td>Pave</td>\n",
       "      <td>NaN</td>\n",
       "      <td>IR1</td>\n",
       "      <td>Lvl</td>\n",
       "      <td>AllPub</td>\n",
       "      <td>...</td>\n",
       "      <td>0</td>\n",
       "      <td>NaN</td>\n",
       "      <td>NaN</td>\n",
       "      <td>NaN</td>\n",
       "      <td>0</td>\n",
       "      <td>12</td>\n",
       "      <td>2008</td>\n",
       "      <td>WD</td>\n",
       "      <td>Normal</td>\n",
       "      <td>250000</td>\n",
       "    </tr>\n",
       "  </tbody>\n",
       "</table>\n",
       "<p>5 rows × 81 columns</p>\n",
       "</div>"
      ],
      "text/plain": [
       "   Id  MSSubClass MSZoning  LotFrontage  LotArea Street Alley LotShape  \\\n",
       "0   1          60       RL         65.0     8450   Pave   NaN      Reg   \n",
       "1   2          20       RL         80.0     9600   Pave   NaN      Reg   \n",
       "2   3          60       RL         68.0    11250   Pave   NaN      IR1   \n",
       "3   4          70       RL         60.0     9550   Pave   NaN      IR1   \n",
       "4   5          60       RL         84.0    14260   Pave   NaN      IR1   \n",
       "\n",
       "  LandContour Utilities  ... PoolArea PoolQC Fence MiscFeature MiscVal MoSold  \\\n",
       "0         Lvl    AllPub  ...        0    NaN   NaN         NaN       0      2   \n",
       "1         Lvl    AllPub  ...        0    NaN   NaN         NaN       0      5   \n",
       "2         Lvl    AllPub  ...        0    NaN   NaN         NaN       0      9   \n",
       "3         Lvl    AllPub  ...        0    NaN   NaN         NaN       0      2   \n",
       "4         Lvl    AllPub  ...        0    NaN   NaN         NaN       0     12   \n",
       "\n",
       "  YrSold  SaleType  SaleCondition  SalePrice  \n",
       "0   2008        WD         Normal     208500  \n",
       "1   2007        WD         Normal     181500  \n",
       "2   2008        WD         Normal     223500  \n",
       "3   2006        WD        Abnorml     140000  \n",
       "4   2008        WD         Normal     250000  \n",
       "\n",
       "[5 rows x 81 columns]"
      ]
     },
     "execution_count": 840,
     "metadata": {},
     "output_type": "execute_result"
    }
   ],
   "source": [
    "train = pd.read_csv(\"./dataset/train.csv\")\n",
    "train.head()"
   ]
  },
  {
   "cell_type": "code",
   "execution_count": 841,
   "metadata": {},
   "outputs": [
    {
     "data": {
      "text/plain": [
       "(1460, 81)"
      ]
     },
     "execution_count": 841,
     "metadata": {},
     "output_type": "execute_result"
    }
   ],
   "source": [
    "train.shape"
   ]
  },
  {
   "attachments": {},
   "cell_type": "markdown",
   "metadata": {},
   "source": [
    "# Missing Values\n",
    "\n",
    "Sources on approaches with Missing Values: \n",
    "- https://www.kaggle.com/code/serigne/stacked-regressions-top-4-on-leaderboard \n",
    "- https://www.kaggle.com/code/niteshx2/top-50-beginners-stacking-lgb-xgb/notebook#Now-,-we-are-getting-started-with-the-process-of-modelling \n",
    "- https://www.kaggle.com/code/jesucristo/1-house-prices-solution-top-1/notebook#EDA"
   ]
  },
  {
   "cell_type": "code",
   "execution_count": 842,
   "metadata": {},
   "outputs": [
    {
     "data": {
      "image/png": "[encoded data removed]",
      "text/plain": [
       "<Figure size 2500x1000 with 2 Axes>"
      ]
     },
     "metadata": {},
     "output_type": "display_data"
    },
    {
     "data": {
      "text/html": [
       "<div>\n",
       "<style scoped>\n",
       "    .dataframe tbody tr th:only-of-type {\n",
       "        vertical-align: middle;\n",
       "    }\n",
       "\n",
       "    .dataframe tbody tr th {\n",
       "        vertical-align: top;\n",
       "    }\n",
       "\n",
       "    .dataframe thead th {\n",
       "        text-align: right;\n",
       "    }\n",
       "</style>\n",
       "<table border=\"1\" class=\"dataframe\">\n",
       "  <thead>\n",
       "    <tr style=\"text-align: right;\">\n",
       "      <th></th>\n",
       "      <th>Missing Ratio</th>\n",
       "    </tr>\n",
       "  </thead>\n",
       "  <tbody>\n",
       "    <tr>\n",
       "      <th>PoolQC</th>\n",
       "      <td>99.520548</td>\n",
       "    </tr>\n",
       "    <tr>\n",
       "      <th>MiscFeature</th>\n",
       "      <td>96.301370</td>\n",
       "    </tr>\n",
       "    <tr>\n",
       "      <th>Alley</th>\n",
       "      <td>93.767123</td>\n",
       "    </tr>\n",
       "    <tr>\n",
       "      <th>Fence</th>\n",
       "      <td>80.753425</td>\n",
       "    </tr>\n",
       "    <tr>\n",
       "      <th>FireplaceQu</th>\n",
       "      <td>47.260274</td>\n",
       "    </tr>\n",
       "  </tbody>\n",
       "</table>\n",
       "</div>"
      ],
      "text/plain": [
       "             Missing Ratio\n",
       "PoolQC           99.520548\n",
       "MiscFeature      96.301370\n",
       "Alley            93.767123\n",
       "Fence            80.753425\n",
       "FireplaceQu      47.260274"
      ]
     },
     "execution_count": 842,
     "metadata": {},
     "output_type": "execute_result"
    }
   ],
   "source": [
    "import missingno as msno\n",
    "\n",
    "msno.matrix(train);\n",
    "plt.show()\n",
    "\n",
    "all_data_na = (train.isnull().sum() / len(train)) * 100\n",
    "all_data_na = all_data_na.drop(all_data_na[all_data_na == 0].index).sort_values(ascending=False)[:30]\n",
    "missing_data = pd.DataFrame({\"Missing Ratio\" :all_data_na})\n",
    "missing_data.head(5)"
   ]
  },
  {
   "cell_type": "code",
   "execution_count": 843,
   "metadata": {},
   "outputs": [
    {
     "data": {
      "image/png": "[encoded data removed]",
      "text/plain": [
       "<Figure size 1200x800 with 1 Axes>"
      ]
     },
     "metadata": {},
     "output_type": "display_data"
    }
   ],
   "source": [
    "f, ax = plt.subplots(figsize=(12, 8))\n",
    "plt.xticks(rotation=90)\n",
    "sns.barplot(x=all_data_na.index, y=all_data_na);\n",
    "plt.xlabel(\"Features\", fontsize=15)\n",
    "plt.ylabel(\"Percent of missing values\", fontsize=15)\n",
    "plt.title(\"Percent missing data by feature\", fontsize=15)\n",
    "plt.show()"
   ]
  },
  {
   "attachments": {},
   "cell_type": "markdown",
   "metadata": {},
   "source": [
    "On the first glance it is clear that some features has too much data loss and you might want to simply remove them from dataset.\n",
    "\n",
    "However, data exploration shows that some of them are actually trying to assign specific label with NaN and therefore no data is actualy lost, it is just stored incorrectly\n",
    "\n",
    "Data Exploration:\n",
    "\n",
    "- **PoolQC**: data description says NA means \"No Pool\". That make sense, given the huge ratio of missing value (+99%) and majority of houses have no Pool at all in general.\n",
    "- **MiscFeature**: data description says NA means \"no misc feature\"\n",
    "- **Alley**: data description says NA means \"no alley access\"\n",
    "- **Fence**: data description says NA means \"no fence\"\n",
    "- **FireplaceQu**: data description says NA means \"no fireplace\"\n",
    "- **LotFrontage**: can fill in missing values by the median LotFrontage of the neighborhood.\n",
    "- **GarageType**, **GarageFinish**, **GarageQual** and **GarageCond**: Replacing missing data with \"No_Garage\"\n",
    "- **GarageYrBlt**, **GarageArea** and **GarageCars**: Replacing missing data with 0 (Since No garage = no cars in such garage.)\n",
    "- **BsmtFinSF1**, **BsmtFinSF2**, **BsmtUnfSF**, **TotalBsmtSF**, **BsmtFullBath** and **BsmtHalfBath**: Replacing missing data with 0 for having no basement\n",
    "- **BsmtQual**, **BsmtCond**, **BsmtExposure**, **BsmtFinType1** and **BsmtFinType2**: For all these categorical basement-related features, replacing missing data with 0 as NaN means that there is no basement.\n",
    "- **MasVnrArea** and **MasVnrType**: NA most likely means no masonry veneer for these houses. We can fill 0 for the area and None for the type.\n",
    "- **MSZoning** (The general zoning classification) : 'RL' is by far the most common value. So we can fill in missing values with median ('RL')\n",
    "- **Utilities**: For this categorical feature all records are \"AllPub\", except for one \"NoSeWa\" and 2 NA . Since the house with 'NoSewa' is in the training set, this feature won't help in predictive modelling. We can then safely **drop** it.\n",
    "- **Electrical**: It has one NA value. Since this feature has mostly 'SBrkr', we can set that for the missing value.\n",
    "- **KitchenQual**: Only one NA value, and same as Electrical, we set 'TA' (which is the most frequent) for the missing value in KitchenQual.\n",
    "- **Exterior1st** and **Exterior2nd**: Again Both Exterior 1 & 2 have only one missing value. We will just substitute in the most common string\n",
    "- **SaleType**: Fill in again with mode (\"WD\")\n",
    "- **Functional**: data description says NA means typical"
   ]
  },
  {
   "cell_type": "code",
   "execution_count": 844,
   "metadata": {},
   "outputs": [],
   "source": [
    "for col in (\"PoolQC\", \"MiscFeature\", \"Alley\", \"Fence\", \"FireplaceQu\"):\n",
    "\ttrain[col] = train[col].fillna(\"No_\" + col)\n",
    "\n",
    "for col in (\"GarageType\", \"GarageFinish\", \"GarageQual\", \"GarageCond\"):\n",
    "\ttrain[col] = train[col].fillna(\"No_Garage\")\n",
    "    \n",
    "for col in (\"GarageYrBlt\", \"GarageArea\", \"GarageCars\"):\n",
    "\ttrain[col] = train[col].fillna(0)\n",
    "    \n",
    "for col in (\"BsmtFinSF1\", \"BsmtFinSF2\", \"BsmtUnfSF\",\"TotalBsmtSF\", \"BsmtFullBath\", \"BsmtHalfBath\"):\n",
    "\ttrain[col] = train[col].fillna(0)\n",
    "    \n",
    "for col in (\"BsmtQual\", \"BsmtCond\", \"BsmtExposure\", \"BsmtFinType1\", \"BsmtFinType2\"):\n",
    "\ttrain[col] = train[col].fillna(\"No_\" + col)\n",
    "\n",
    "train_modes_to_fill = {}\t# Data For Test Dataset PreProcessing\n",
    "for col in (\"MSZoning\", \"Electrical\", \"KitchenQual\", \"Exterior1st\", \"Exterior2nd\", \"SaleType\"):\n",
    "    train_modes_to_fill[col] = train[col].mode()[0]\n",
    "    train[col] = train[col].fillna(train_modes_to_fill[col])\n",
    "    \n",
    "means_lot_frontage = train.groupby(\"Neighborhood\")[\"LotFrontage\"].median()\n",
    "train[\"LotFrontage\"] = train.groupby(\"Neighborhood\")[\"LotFrontage\"].transform(lambda x: x.fillna(means_lot_frontage[x.name]))\n",
    "    \n",
    "train.drop(['Utilities'], axis=1, inplace=True)\n",
    "\n",
    "train[\"MasVnrArea\"] = train[\"MasVnrArea\"].fillna(0)\n",
    "train[\"MasVnrType\"] = train[\"MasVnrType\"].fillna(\"None\")\n",
    "train[\"Functional\"] = train[\"Functional\"].fillna(\"Typ\")\n"
   ]
  },
  {
   "cell_type": "code",
   "execution_count": 845,
   "metadata": {},
   "outputs": [
    {
     "data": {
      "image/png": "[encoded data removed]",
      "text/plain": [
       "<Figure size 2500x1000 with 2 Axes>"
      ]
     },
     "metadata": {},
     "output_type": "display_data"
    },
    {
     "data": {
      "text/html": [
       "<div>\n",
       "<style scoped>\n",
       "    .dataframe tbody tr th:only-of-type {\n",
       "        vertical-align: middle;\n",
       "    }\n",
       "\n",
       "    .dataframe tbody tr th {\n",
       "        vertical-align: top;\n",
       "    }\n",
       "\n",
       "    .dataframe thead th {\n",
       "        text-align: right;\n",
       "    }\n",
       "</style>\n",
       "<table border=\"1\" class=\"dataframe\">\n",
       "  <thead>\n",
       "    <tr style=\"text-align: right;\">\n",
       "      <th></th>\n",
       "      <th>Missing Ratio</th>\n",
       "    </tr>\n",
       "  </thead>\n",
       "  <tbody>\n",
       "  </tbody>\n",
       "</table>\n",
       "</div>"
      ],
      "text/plain": [
       "Empty DataFrame\n",
       "Columns: [Missing Ratio]\n",
       "Index: []"
      ]
     },
     "execution_count": 845,
     "metadata": {},
     "output_type": "execute_result"
    }
   ],
   "source": [
    "msno.matrix(train);\n",
    "plt.show()\n",
    "\n",
    "all_data_na = (train.isnull().sum() / len(train)) * 100\n",
    "all_data_na = all_data_na.drop(all_data_na[all_data_na == 0].index).sort_values(ascending=False)\n",
    "missing_data = pd.DataFrame({\"Missing Ratio\" :all_data_na})\n",
    "missing_data.head(5)"
   ]
  },
  {
   "cell_type": "code",
   "execution_count": 846,
   "metadata": {},
   "outputs": [
    {
     "data": {
      "text/plain": [
       "(1460, 80)"
      ]
     },
     "execution_count": 846,
     "metadata": {},
     "output_type": "execute_result"
    }
   ],
   "source": [
    "train.shape"
   ]
  },
  {
   "attachments": {},
   "cell_type": "markdown",
   "metadata": {},
   "source": [
    "# PreProcessing"
   ]
  },
  {
   "attachments": {},
   "cell_type": "markdown",
   "metadata": {},
   "source": [
    "Sources on EDA and PreProcessing:\n",
    "\n",
    "- https://www.kaggle.com/code/pmarcelino/comprehensive-data-exploration-with-python \n"
   ]
  },
  {
   "cell_type": "code",
   "execution_count": 847,
   "metadata": {},
   "outputs": [
    {
     "data": {
      "text/plain": [
       "(1460, 79)"
      ]
     },
     "execution_count": 847,
     "metadata": {},
     "output_type": "execute_result"
    }
   ],
   "source": [
    "train.drop(['Id'], axis=1, inplace=True)\n",
    "train.shape"
   ]
  },
  {
   "attachments": {},
   "cell_type": "markdown",
   "metadata": {},
   "source": [
    "## 1. Remove Outliers"
   ]
  },
  {
   "attachments": {},
   "cell_type": "markdown",
   "metadata": {},
   "source": [
    "I will go through each feature and will store indexes of data points that are outside of my manual max_values for each of given features"
   ]
  },
  {
   "cell_type": "code",
   "execution_count": 848,
   "metadata": {},
   "outputs": [
    {
     "data": {
      "text/plain": [
       "{197, 249, 297, 313, 322, 335, 495, 583, 691, 706, 934, 1169, 1182, 1298, 1328}"
      ]
     },
     "execution_count": 848,
     "metadata": {},
     "output_type": "execute_result"
    }
   ],
   "source": [
    "outlier_ind = set()\n",
    "\n",
    "outliers = {\"LotFrontage\": 300, \"LotArea\": 100000,\n",
    "            \"BsmtFinSF1\": 5000, \"MasVnrArea\": 1300,\n",
    "            \"BsmtFinSF2\": 1300, \"TotalBsmtSF\": 5000,\n",
    "            \"1stFlrSF\": 4000, \"GrLivArea\": 5000,\n",
    "            \"OpenPorchSF\": 470, \"EnclosedPorch\": 500,\n",
    "            \"SalePrice\": 700000}\n",
    "\n",
    "numerical_features = train.select_dtypes(exclude=\"object\").columns\n",
    "for feature_name, max_value in outliers.items():\n",
    "    x = train[feature_name]\n",
    "    x = x[x > max_value]\n",
    "    outlier_ind.update(list(x.index))\n",
    "\n",
    "outlier_ind"
   ]
  },
  {
   "attachments": {},
   "cell_type": "markdown",
   "metadata": {},
   "source": [
    "Adding Outliers from works of others (combining our efforts to get best results)"
   ]
  },
  {
   "cell_type": "code",
   "execution_count": 849,
   "metadata": {},
   "outputs": [],
   "source": [
    "outliers = [30, 88, 462, 631, 1322]\n",
    "outlier_ind.update(outliers)"
   ]
  },
  {
   "cell_type": "code",
   "execution_count": 850,
   "metadata": {},
   "outputs": [],
   "source": [
    "train.drop(outlier_ind, inplace=True)"
   ]
  },
  {
   "cell_type": "code",
   "execution_count": 851,
   "metadata": {},
   "outputs": [
    {
     "data": {
      "text/plain": [
       "(1440, 79)"
      ]
     },
     "execution_count": 851,
     "metadata": {},
     "output_type": "execute_result"
    }
   ],
   "source": [
    "train.shape"
   ]
  },
  {
   "attachments": {},
   "cell_type": "markdown",
   "metadata": {},
   "source": [
    "And so, I just dropped 20 samples of 1460\n",
    "\n",
    "I tried IQR methodology to drop all samples outside of the Q1 and Q3. But in this way I am removing hundreds of samples which only decreases the performance. \n",
    "\n",
    "I got information on dropping performance from personal experience and supported it with this discussion:\n",
    "- https://www.kaggle.com/competitions/house-prices-advanced-regression-techniques/discussion/170472\n",
    "\n",
    "Therefore, the outlier filtering must be done with a lot of causiousness. Perhaps, 15 outliers I found manually is enough for filtering\n"
   ]
  },
  {
   "attachments": {},
   "cell_type": "markdown",
   "metadata": {},
   "source": [
    "## 2. Numerical Categories"
   ]
  },
  {
   "attachments": {},
   "cell_type": "markdown",
   "metadata": {},
   "source": [
    "Found \"funny\" way of categorization with replacing strings with numbers. Don't believe it is going to work, but worth trying\n",
    "- https://github.com/jvanelteren/housing/blob/master/2Feature%20Engineering.ipynb "
   ]
  },
  {
   "attachments": {},
   "cell_type": "markdown",
   "metadata": {},
   "source": [
    "This section requires personalised approach for each feature\n",
    "\n",
    "To decide what shall be done with each feature I will refer to its description\n",
    "\n",
    "The main criteria to decide whther a feture shall be kept as a number or encoded as categorical variable is:\n",
    "- Decide if hte neighbour values are highly correlated as number. \n",
    "    - For example, type \"1\" and type \"2\" could mean absolutely different type, while\n",
    "1 bathroom and 2 bathrooms are describing the quantity of the same thing\n",
    "\n",
    "Feature Description -> Decision:\n",
    "\n",
    "- **MSSubClass** is a **type** of dwelling involved in the sale. -> Must be categorised\n",
    "- **OverallQual** are **Rates** of the overall material and finish of the house. -> Could be a number\n",
    "- **OverallCond** are **Rates** of the overall condition of the house -> Could be a number\n",
    "- **BsmtFullBath** is **[number of]** Basement full bathrooms -> Could be a number (or could be combined)\n",
    "- **BsmtHalfBath** is **[number of]** Basement half bathrooms -> Could be a number (or could be combined)\n",
    "- **FullBath** is **[number of]** Full bathrooms above grade -> Could be a number (or could be combined)\n",
    "- **HalfBath** is **[number of]** Half baths above grade -> Could be a number (or could be combined)\n",
    "- **BedroomAbvGr** is **[number of]** Bedrooms above grade -> Could be a number\n",
    "- **TotRmsAbvGrd** is **[number of]** Total rooms above grade -> Could be a number \n",
    "- **Fireplaces** is **[number of]** Number of fireplaces -> Could be a number \n",
    "- **GarageCars** is **Size** of garage in car capacity -> Could be a number \n",
    "- **MoSold** is **[number of]** Month Sold (MM) -> Could be a number or category\n",
    "- **YrSold** is **[number of]** Year Sold (YYYY) -> Could be a number or category\n",
    "\n",
    "From the list above we defined 1-3 features that could be categorised"
   ]
  },
  {
   "cell_type": "code",
   "execution_count": 852,
   "metadata": {},
   "outputs": [
    {
     "name": "stdout",
     "output_type": "stream",
     "text": [
      "<class 'pandas.core.series.Series'>\n",
      "Int64Index: 1440 entries, 0 to 1459\n",
      "Series name: MSSubClass\n",
      "Non-Null Count  Dtype \n",
      "--------------  ----- \n",
      "1440 non-null   object\n",
      "dtypes: object(1)\n",
      "memory usage: 22.5+ KB\n"
     ]
    }
   ],
   "source": [
    "num_to_category = [\"MSSubClass\", \"MoSold\", \"YrSold\"]\n",
    "for ntc in num_to_category:\n",
    "    train[ntc] = train[ntc].apply(str)\n",
    "train[num_to_category[0]].info()"
   ]
  },
  {
   "attachments": {},
   "cell_type": "markdown",
   "metadata": {},
   "source": [
    "## 3. Feature Engineering\n",
    "\n",
    "sources:\n",
    "- https://www.kaggle.com/code/jesucristo/1-house-prices-solution-top-1/notebook#EDA \n",
    "- https://www.kaggle.com/code/niteshx2/top-50-beginners-stacking-lgb-xgb/notebook#Final-Step-: \n",
    "\n",
    "the best one:\n",
    "- https://www.kaggle.com/code/lavanyashukla01/how-i-made-top-0-3-on-a-kaggle-competition "
   ]
  },
  {
   "attachments": {},
   "cell_type": "markdown",
   "metadata": {},
   "source": [
    "Here I create new features "
   ]
  },
  {
   "cell_type": "code",
   "execution_count": 853,
   "metadata": {},
   "outputs": [],
   "source": [
    "original_numeric_features = list(train.select_dtypes(exclude=\"object\").columns)   # Save it before we add new features"
   ]
  },
  {
   "cell_type": "code",
   "execution_count": 854,
   "metadata": {},
   "outputs": [],
   "source": [
    "train[\"BsmtFinType1_Unf\"] = 1*(train[\"BsmtFinType1\"] == \"Unf\")\n",
    "train[\"HasWoodDeck\"] = (train[\"WoodDeckSF\"] == 0) * 1\n",
    "train[\"HasOpenPorch\"] = (train[\"OpenPorchSF\"] == 0) * 1\n",
    "train[\"HasEnclosedPorch\"] = (train[\"EnclosedPorch\"] == 0) * 1\n",
    "train[\"Has3SsnPorch\"] = (train[\"3SsnPorch\"] == 0) * 1\n",
    "train[\"HasScreenPorch\"] = (train[\"ScreenPorch\"] == 0) * 1\n",
    "train[\"YearsSinceRemodel\"] = train[\"YrSold\"].astype(int) - train[\"YearRemodAdd\"].astype(int)\n",
    "train[\"Total_Home_Quality\"] = train[\"OverallQual\"] + train[\"OverallCond\"]\n",
    "train[\"TotalSF\"] = train[\"TotalBsmtSF\"] + train[\"1stFlrSF\"] + train[\"2ndFlrSF\"]\n",
    "train[\"YrBltAndRemod\"] = train[\"YearBuilt\"] + train[\"YearRemodAdd\"]\n",
    "\n",
    "train[\"Total_sqr_footage\"] = (train[\"BsmtFinSF1\"] + train[\"BsmtFinSF2\"] + train[\"1stFlrSF\"] + train[\"2ndFlrSF\"])\n",
    "train[\"Total_Bathrooms\"] = (train[\"FullBath\"] + (0.5 * train[\"HalfBath\"]) + train[\"BsmtFullBath\"] + (0.5 * train[\"BsmtHalfBath\"]))\n",
    "train[\"Total_porch_sf\"] = (train[\"OpenPorchSF\"] + train[\"3SsnPorch\"] + train[\"EnclosedPorch\"] + train[\"ScreenPorch\"] + train[\"WoodDeckSF\"])\n",
    "\n",
    "train[\"haspool\"] = train[\"PoolArea\"].apply(lambda x: 1 if x > 0 else 0)\n",
    "train[\"has2ndfloor\"] = train[\"2ndFlrSF\"].apply(lambda x: 1 if x > 0 else 0)\n",
    "train[\"hasgarage\"] = train[\"GarageArea\"].apply(lambda x: 1 if x > 0 else 0)\n",
    "train[\"hasbsmt\"] = train[\"TotalBsmtSF\"].apply(lambda x: 1 if x > 0 else 0)\n",
    "train[\"hasfireplace\"] = train[\"Fireplaces\"].apply(lambda x: 1 if x > 0 else 0)\n",
    "\n",
    "# Feature Engineering: Updated new features\n",
    "train[\"YearRemodAdd_super_old\"] = 1 * (train[\"YearRemodAdd\"] <= 1950)\n",
    "\n",
    "new_zero_features = (\"MasVnrArea\", \"BsmtFinSF1\", \"BsmtFinSF2\", \"BsmtUnfSF\", \"LowQualFinSF\", \"GarageYrBlt\", \"MiscVal\")\n",
    "for col in new_zero_features:\n",
    "    train[col+\"_zero\"] = 1 * (train[col]  == 0)"
   ]
  },
  {
   "cell_type": "code",
   "execution_count": 855,
   "metadata": {},
   "outputs": [
    {
     "data": {
      "image/png": "[encoded data removed]",
      "text/plain": [
       "<Figure size 2500x1000 with 2 Axes>"
      ]
     },
     "metadata": {},
     "output_type": "display_data"
    },
    {
     "data": {
      "text/html": [
       "<div>\n",
       "<style scoped>\n",
       "    .dataframe tbody tr th:only-of-type {\n",
       "        vertical-align: middle;\n",
       "    }\n",
       "\n",
       "    .dataframe tbody tr th {\n",
       "        vertical-align: top;\n",
       "    }\n",
       "\n",
       "    .dataframe thead th {\n",
       "        text-align: right;\n",
       "    }\n",
       "</style>\n",
       "<table border=\"1\" class=\"dataframe\">\n",
       "  <thead>\n",
       "    <tr style=\"text-align: right;\">\n",
       "      <th></th>\n",
       "      <th>Missing Ratio</th>\n",
       "    </tr>\n",
       "  </thead>\n",
       "  <tbody>\n",
       "  </tbody>\n",
       "</table>\n",
       "</div>"
      ],
      "text/plain": [
       "Empty DataFrame\n",
       "Columns: [Missing Ratio]\n",
       "Index: []"
      ]
     },
     "execution_count": 855,
     "metadata": {},
     "output_type": "execute_result"
    }
   ],
   "source": [
    "msno.matrix(train);\n",
    "plt.show()\n",
    "\n",
    "all_data_na = (train.isnull().sum() / len(train)) * 100\n",
    "all_data_na = all_data_na.drop(all_data_na[all_data_na == 0].index).sort_values(ascending=False)[:30]\n",
    "missing_data = pd.DataFrame({\"Missing Ratio\" :all_data_na})\n",
    "missing_data.head(5)"
   ]
  },
  {
   "attachments": {},
   "cell_type": "markdown",
   "metadata": {},
   "source": [
    "## 4. Distribution Normalization - Apply Boxcox() transform"
   ]
  },
  {
   "cell_type": "markdown",
   "metadata": {},
   "source": [
    "Experiments showed that log() transform can improve some of features, while it can make worse distribution for others.\n",
    "\n",
    "At the same time boxcox() transform doesn't make any features worse. Therefore, I will aply this transform to all numerical features"
   ]
  },
  {
   "cell_type": "code",
   "execution_count": 856,
   "metadata": {},
   "outputs": [
    {
     "name": "stderr",
     "output_type": "stream",
     "text": [
      "c:\\Users\\nikit\\anaconda3\\envs\\kaggle_house\\lib\\site-packages\\scipy\\stats\\_stats_py.py:4424: ConstantInputWarning: An input array is constant; the correlation coefficient is not defined.\n",
      "  warnings.warn(stats.ConstantInputWarning(msg))\n",
      "c:\\Users\\nikit\\anaconda3\\envs\\kaggle_house\\lib\\site-packages\\scipy\\stats\\_stats_py.py:4461: NearConstantInputWarning: An input array is nearly constant; the computed correlation coefficient may be inaccurate.\n",
      "  warnings.warn(stats.NearConstantInputWarning(msg))\n"
     ]
    }
   ],
   "source": [
    "boxcox_num_feature_max = {}\n",
    "\n",
    "original_numeric_features.remove(\"YearRemodAdd\")    # Problematic feature. It gets to 1e+240 if you apply box-cox\n",
    "\n",
    "for feature_name in original_numeric_features:\n",
    "    boxcox_num_feature_max[feature_name] = boxcox_normmax(train[feature_name] + 1)\n",
    "    train[feature_name] = boxcox1p(train[feature_name], boxcox_num_feature_max[feature_name])"
   ]
  },
  {
   "attachments": {},
   "cell_type": "markdown",
   "metadata": {},
   "source": [
    "# Category Encoding"
   ]
  },
  {
   "attachments": {},
   "cell_type": "markdown",
   "metadata": {},
   "source": [
    "Some people use Lable Encoding:\n",
    "- https://www.kaggle.com/code/serigne/stacked-regressions-top-4-on-leaderboard\n",
    "- https://github.com/jvanelteren/housing/blob/master/2Feature%20Engineering.ipynb \n",
    "\n",
    "The lable encoding shall be checked in next basemodel\n",
    "\n",
    "Here I will perform OneHotEncoding\n",
    "\n",
    "However, many works how INCORRECT APPROACH where they combine training and testing data together and apply preprocessing, including encoding, to the whole dataset. That is inappropriate, and can be reffered to issue called \"data leak\". The problems are: you cannot use testing data to get information for training (can't use test data for statistical values to replace NaN of training dataset) and cannot update number of categories from test data to be applied on whole dataset! In real case scenario only training dataset will be given and test is an actual application of the model to real world. Therefore, we must rely on training dataset and prepare pipeline for new-comming test dataset. Next works do that INCORRECTLY:\n",
    "- https://www.kaggle.com/code/niteshx2/top-50-beginners-stacking-lgb-xgb/notebook#Final-Step-:\n",
    "- https://www.kaggle.com/code/jesucristo/1-house-prices-solution-top-1/notebook#EDA\n",
    "- https://www.kaggle.com/code/serigne/stacked-regressions-top-4-on-leaderboard#Data-Processing\n",
    "- https://www.kaggle.com/code/pmarcelino/comprehensive-data-exploration-with-python#4.-Missing-data \n",
    "- https://www.kaggle.com/code/apapiu/regularized-linear-models\n",
    "- https://www.kaggle.com/code/lavanyashukla01/how-i-made-top-0-3-on-a-kaggle-competition\n",
    "\n",
    "That is one of the reasons top-leaders (Top 1%, etc) are doing that. The infer the test data and get better performance on testing set. But that is an incorrect approach which is impossible to replicate in the real world scenario\n",
    "\n",
    "Therefore, here I use Encoder \"trained\" on training data and used to transform test and training data. The \"ignor\" parameter will ignore any new categories that are not present in training but appear in test set.\n"
   ]
  },
  {
   "cell_type": "code",
   "execution_count": 857,
   "metadata": {},
   "outputs": [
    {
     "data": {
      "text/plain": [
       "((1440, 60), (1440, 45), (1440, 105))"
      ]
     },
     "execution_count": 857,
     "metadata": {},
     "output_type": "execute_result"
    }
   ],
   "source": [
    "train_categorical = train.select_dtypes(include=\"object\")\n",
    "train_numerical = train.select_dtypes(exclude=\"object\")\n",
    "\n",
    "assert train_numerical.isna().sum().sum() == 0\n",
    "assert train_categorical.isna().sum().sum() == 0\n",
    "assert train_categorical.shape[1] + train_numerical.shape[1] == train.shape[1]\n",
    "\n",
    "train_numerical.shape, train_categorical.shape, train.shape"
   ]
  },
  {
   "cell_type": "code",
   "execution_count": 858,
   "metadata": {},
   "outputs": [
    {
     "data": {
      "text/plain": [
       "Neighborhood    25\n",
       "Exterior2nd     16\n",
       "MSSubClass      15\n",
       "Exterior1st     15\n",
       "MoSold          12\n",
       "Condition1       9\n",
       "SaleType         9\n",
       "HouseStyle       8\n",
       "dtype: int64"
      ]
     },
     "execution_count": 858,
     "metadata": {},
     "output_type": "execute_result"
    }
   ],
   "source": [
    "uniq_df = {col:len(pd.unique(train_categorical[col])) for col in train_categorical.columns}\n",
    "uniq_df = pd.Series(uniq_df).sort_values(ascending=False)\n",
    "uniq_df[:8]"
   ]
  },
  {
   "attachments": {},
   "cell_type": "markdown",
   "metadata": {},
   "source": [
    "When there are lots of categories - One Hot Encoding might not be the best case\n",
    "\n",
    "I will try:\n",
    "- Dropping them -> Got worse results\n",
    "- Applying label encoding to them"
   ]
  },
  {
   "cell_type": "code",
   "execution_count": 859,
   "metadata": {},
   "outputs": [
    {
     "data": {
      "text/html": [
       "<div>\n",
       "<style scoped>\n",
       "    .dataframe tbody tr th:only-of-type {\n",
       "        vertical-align: middle;\n",
       "    }\n",
       "\n",
       "    .dataframe tbody tr th {\n",
       "        vertical-align: top;\n",
       "    }\n",
       "\n",
       "    .dataframe thead th {\n",
       "        text-align: right;\n",
       "    }\n",
       "</style>\n",
       "<table border=\"1\" class=\"dataframe\">\n",
       "  <thead>\n",
       "    <tr style=\"text-align: right;\">\n",
       "      <th></th>\n",
       "      <th>Neighborhood</th>\n",
       "      <th>Exterior2nd</th>\n",
       "      <th>MSSubClass</th>\n",
       "      <th>Exterior1st</th>\n",
       "      <th>MoSold</th>\n",
       "    </tr>\n",
       "  </thead>\n",
       "  <tbody>\n",
       "    <tr>\n",
       "      <th>0</th>\n",
       "      <td>CollgCr</td>\n",
       "      <td>VinylSd</td>\n",
       "      <td>60</td>\n",
       "      <td>VinylSd</td>\n",
       "      <td>2</td>\n",
       "    </tr>\n",
       "    <tr>\n",
       "      <th>1</th>\n",
       "      <td>Veenker</td>\n",
       "      <td>MetalSd</td>\n",
       "      <td>20</td>\n",
       "      <td>MetalSd</td>\n",
       "      <td>5</td>\n",
       "    </tr>\n",
       "    <tr>\n",
       "      <th>2</th>\n",
       "      <td>CollgCr</td>\n",
       "      <td>VinylSd</td>\n",
       "      <td>60</td>\n",
       "      <td>VinylSd</td>\n",
       "      <td>9</td>\n",
       "    </tr>\n",
       "    <tr>\n",
       "      <th>3</th>\n",
       "      <td>Crawfor</td>\n",
       "      <td>Wd Shng</td>\n",
       "      <td>70</td>\n",
       "      <td>Wd Sdng</td>\n",
       "      <td>2</td>\n",
       "    </tr>\n",
       "    <tr>\n",
       "      <th>4</th>\n",
       "      <td>NoRidge</td>\n",
       "      <td>VinylSd</td>\n",
       "      <td>60</td>\n",
       "      <td>VinylSd</td>\n",
       "      <td>12</td>\n",
       "    </tr>\n",
       "  </tbody>\n",
       "</table>\n",
       "</div>"
      ],
      "text/plain": [
       "  Neighborhood Exterior2nd MSSubClass Exterior1st MoSold\n",
       "0      CollgCr     VinylSd         60     VinylSd      2\n",
       "1      Veenker     MetalSd         20     MetalSd      5\n",
       "2      CollgCr     VinylSd         60     VinylSd      9\n",
       "3      Crawfor     Wd Shng         70     Wd Sdng      2\n",
       "4      NoRidge     VinylSd         60     VinylSd     12"
      ]
     },
     "execution_count": 859,
     "metadata": {},
     "output_type": "execute_result"
    }
   ],
   "source": [
    "bad_encoding_features = uniq_df[uniq_df > 10]\n",
    "bad_encoding_features\n",
    "\n",
    "# Label Encoding\n",
    "label_categories = train_categorical[bad_encoding_features.index]\n",
    "train_categorical.drop(bad_encoding_features.index, axis=1, inplace=True);\n",
    "label_categories.head()"
   ]
  },
  {
   "cell_type": "code",
   "execution_count": 860,
   "metadata": {},
   "outputs": [
    {
     "ename": "ValueError",
     "evalue": "The used value for unknown_value 0 is one of the values already used for encoding the seen categories.",
     "output_type": "error",
     "traceback": [
      "\u001b[1;31m---------------------------------------------------------------------------\u001b[0m",
      "\u001b[1;31mValueError\u001b[0m                                Traceback (most recent call last)",
      "Cell \u001b[1;32mIn[860], line 4\u001b[0m\n\u001b[0;32m      1\u001b[0m \u001b[39mfrom\u001b[39;00m \u001b[39msklearn\u001b[39;00m\u001b[39m.\u001b[39;00m\u001b[39mpreprocessing\u001b[39;00m \u001b[39mimport\u001b[39;00m OrdinalEncoder\n\u001b[0;32m      3\u001b[0m oe \u001b[39m=\u001b[39m OrdinalEncoder(handle_unknown\u001b[39m=\u001b[39m\u001b[39m\"\u001b[39m\u001b[39muse_encoded_value\u001b[39m\u001b[39m\"\u001b[39m, unknown_value\u001b[39m=\u001b[39m\u001b[39m0\u001b[39m)\n\u001b[1;32m----> 4\u001b[0m oe\u001b[39m.\u001b[39;49mfit(label_categories)\n\u001b[0;32m      6\u001b[0m label_encoded \u001b[39m=\u001b[39m pd\u001b[39m.\u001b[39mDataFrame(oe\u001b[39m.\u001b[39mtransform(label_categories), \n\u001b[0;32m      7\u001b[0m                                   columns\u001b[39m=\u001b[39m\u001b[39mlist\u001b[39m(oe\u001b[39m.\u001b[39mget_feature_names_out()),\n\u001b[0;32m      8\u001b[0m                                   index\u001b[39m=\u001b[39mtrain_categorical\u001b[39m.\u001b[39mindex, \n\u001b[0;32m      9\u001b[0m                                   dtype\u001b[39m=\u001b[39m\u001b[39mint\u001b[39m)\n\u001b[0;32m     10\u001b[0m label_encoded\u001b[39m.\u001b[39mhead()\n",
      "File \u001b[1;32mc:\\Users\\nikit\\anaconda3\\envs\\kaggle_house\\lib\\site-packages\\sklearn\\preprocessing\\_encoders.py:1322\u001b[0m, in \u001b[0;36mOrdinalEncoder.fit\u001b[1;34m(self, X, y)\u001b[0m\n\u001b[0;32m   1320\u001b[0m     \u001b[39mfor\u001b[39;00m cardinality \u001b[39min\u001b[39;00m cardinalities:\n\u001b[0;32m   1321\u001b[0m         \u001b[39mif\u001b[39;00m \u001b[39m0\u001b[39m \u001b[39m<\u001b[39m\u001b[39m=\u001b[39m \u001b[39mself\u001b[39m\u001b[39m.\u001b[39munknown_value \u001b[39m<\u001b[39m cardinality:\n\u001b[1;32m-> 1322\u001b[0m             \u001b[39mraise\u001b[39;00m \u001b[39mValueError\u001b[39;00m(\n\u001b[0;32m   1323\u001b[0m                 \u001b[39m\"\u001b[39m\u001b[39mThe used value for unknown_value \u001b[39m\u001b[39m\"\u001b[39m\n\u001b[0;32m   1324\u001b[0m                 \u001b[39mf\u001b[39m\u001b[39m\"\u001b[39m\u001b[39m{\u001b[39;00m\u001b[39mself\u001b[39m\u001b[39m.\u001b[39munknown_value\u001b[39m}\u001b[39;00m\u001b[39m is one of the \u001b[39m\u001b[39m\"\u001b[39m\n\u001b[0;32m   1325\u001b[0m                 \u001b[39m\"\u001b[39m\u001b[39mvalues already used for encoding the \u001b[39m\u001b[39m\"\u001b[39m\n\u001b[0;32m   1326\u001b[0m                 \u001b[39m\"\u001b[39m\u001b[39mseen categories.\u001b[39m\u001b[39m\"\u001b[39m\n\u001b[0;32m   1327\u001b[0m             )\n\u001b[0;32m   1329\u001b[0m \u001b[39mif\u001b[39;00m \u001b[39mself\u001b[39m\u001b[39m.\u001b[39m_missing_indices:\n\u001b[0;32m   1330\u001b[0m     \u001b[39mif\u001b[39;00m np\u001b[39m.\u001b[39mdtype(\u001b[39mself\u001b[39m\u001b[39m.\u001b[39mdtype)\u001b[39m.\u001b[39mkind \u001b[39m!=\u001b[39m \u001b[39m\"\u001b[39m\u001b[39mf\u001b[39m\u001b[39m\"\u001b[39m \u001b[39mand\u001b[39;00m is_scalar_nan(\n\u001b[0;32m   1331\u001b[0m         \u001b[39mself\u001b[39m\u001b[39m.\u001b[39mencoded_missing_value\n\u001b[0;32m   1332\u001b[0m     ):\n",
      "\u001b[1;31mValueError\u001b[0m: The used value for unknown_value 0 is one of the values already used for encoding the seen categories."
     ]
    }
   ],
   "source": [
    "from sklearn.preprocessing import OrdinalEncoder\n",
    "\n",
    "oe = OrdinalEncoder(handle_unknown=\"use_encoded_value\", unknown_value=-1)\n",
    "oe.fit(label_categories)\n",
    "\n",
    "label_encoded = pd.DataFrame(oe.transform(label_categories), \n",
    "                                  columns=list(oe.get_feature_names_out()),\n",
    "                                  index=train_categorical.index, \n",
    "                                  dtype=int)\n",
    "label_encoded.head()"
   ]
  },
  {
   "cell_type": "code",
   "execution_count": null,
   "metadata": {},
   "outputs": [
    {
     "data": {
      "text/html": [
       "<div>\n",
       "<style scoped>\n",
       "    .dataframe tbody tr th:only-of-type {\n",
       "        vertical-align: middle;\n",
       "    }\n",
       "\n",
       "    .dataframe tbody tr th {\n",
       "        vertical-align: top;\n",
       "    }\n",
       "\n",
       "    .dataframe thead th {\n",
       "        text-align: right;\n",
       "    }\n",
       "</style>\n",
       "<table border=\"1\" class=\"dataframe\">\n",
       "  <thead>\n",
       "    <tr style=\"text-align: right;\">\n",
       "      <th></th>\n",
       "      <th>MSZoning_C (all)</th>\n",
       "      <th>MSZoning_FV</th>\n",
       "      <th>MSZoning_RH</th>\n",
       "      <th>MSZoning_RL</th>\n",
       "      <th>MSZoning_RM</th>\n",
       "      <th>Street_Grvl</th>\n",
       "      <th>Street_Pave</th>\n",
       "      <th>Alley_Grvl</th>\n",
       "      <th>Alley_No_Alley</th>\n",
       "      <th>Alley_Pave</th>\n",
       "      <th>...</th>\n",
       "      <th>SaleType_ConLw</th>\n",
       "      <th>SaleType_New</th>\n",
       "      <th>SaleType_Oth</th>\n",
       "      <th>SaleType_WD</th>\n",
       "      <th>SaleCondition_Abnorml</th>\n",
       "      <th>SaleCondition_AdjLand</th>\n",
       "      <th>SaleCondition_Alloca</th>\n",
       "      <th>SaleCondition_Family</th>\n",
       "      <th>SaleCondition_Normal</th>\n",
       "      <th>SaleCondition_Partial</th>\n",
       "    </tr>\n",
       "  </thead>\n",
       "  <tbody>\n",
       "    <tr>\n",
       "      <th>0</th>\n",
       "      <td>0</td>\n",
       "      <td>0</td>\n",
       "      <td>0</td>\n",
       "      <td>1</td>\n",
       "      <td>0</td>\n",
       "      <td>0</td>\n",
       "      <td>1</td>\n",
       "      <td>0</td>\n",
       "      <td>1</td>\n",
       "      <td>0</td>\n",
       "      <td>...</td>\n",
       "      <td>0</td>\n",
       "      <td>0</td>\n",
       "      <td>0</td>\n",
       "      <td>1</td>\n",
       "      <td>0</td>\n",
       "      <td>0</td>\n",
       "      <td>0</td>\n",
       "      <td>0</td>\n",
       "      <td>1</td>\n",
       "      <td>0</td>\n",
       "    </tr>\n",
       "    <tr>\n",
       "      <th>1</th>\n",
       "      <td>0</td>\n",
       "      <td>0</td>\n",
       "      <td>0</td>\n",
       "      <td>1</td>\n",
       "      <td>0</td>\n",
       "      <td>0</td>\n",
       "      <td>1</td>\n",
       "      <td>0</td>\n",
       "      <td>1</td>\n",
       "      <td>0</td>\n",
       "      <td>...</td>\n",
       "      <td>0</td>\n",
       "      <td>0</td>\n",
       "      <td>0</td>\n",
       "      <td>1</td>\n",
       "      <td>0</td>\n",
       "      <td>0</td>\n",
       "      <td>0</td>\n",
       "      <td>0</td>\n",
       "      <td>1</td>\n",
       "      <td>0</td>\n",
       "    </tr>\n",
       "    <tr>\n",
       "      <th>2</th>\n",
       "      <td>0</td>\n",
       "      <td>0</td>\n",
       "      <td>0</td>\n",
       "      <td>1</td>\n",
       "      <td>0</td>\n",
       "      <td>0</td>\n",
       "      <td>1</td>\n",
       "      <td>0</td>\n",
       "      <td>1</td>\n",
       "      <td>0</td>\n",
       "      <td>...</td>\n",
       "      <td>0</td>\n",
       "      <td>0</td>\n",
       "      <td>0</td>\n",
       "      <td>1</td>\n",
       "      <td>0</td>\n",
       "      <td>0</td>\n",
       "      <td>0</td>\n",
       "      <td>0</td>\n",
       "      <td>1</td>\n",
       "      <td>0</td>\n",
       "    </tr>\n",
       "    <tr>\n",
       "      <th>3</th>\n",
       "      <td>0</td>\n",
       "      <td>0</td>\n",
       "      <td>0</td>\n",
       "      <td>1</td>\n",
       "      <td>0</td>\n",
       "      <td>0</td>\n",
       "      <td>1</td>\n",
       "      <td>0</td>\n",
       "      <td>1</td>\n",
       "      <td>0</td>\n",
       "      <td>...</td>\n",
       "      <td>0</td>\n",
       "      <td>0</td>\n",
       "      <td>0</td>\n",
       "      <td>1</td>\n",
       "      <td>1</td>\n",
       "      <td>0</td>\n",
       "      <td>0</td>\n",
       "      <td>0</td>\n",
       "      <td>0</td>\n",
       "      <td>0</td>\n",
       "    </tr>\n",
       "    <tr>\n",
       "      <th>4</th>\n",
       "      <td>0</td>\n",
       "      <td>0</td>\n",
       "      <td>0</td>\n",
       "      <td>1</td>\n",
       "      <td>0</td>\n",
       "      <td>0</td>\n",
       "      <td>1</td>\n",
       "      <td>0</td>\n",
       "      <td>1</td>\n",
       "      <td>0</td>\n",
       "      <td>...</td>\n",
       "      <td>0</td>\n",
       "      <td>0</td>\n",
       "      <td>0</td>\n",
       "      <td>1</td>\n",
       "      <td>0</td>\n",
       "      <td>0</td>\n",
       "      <td>0</td>\n",
       "      <td>0</td>\n",
       "      <td>1</td>\n",
       "      <td>0</td>\n",
       "    </tr>\n",
       "  </tbody>\n",
       "</table>\n",
       "<p>5 rows × 210 columns</p>\n",
       "</div>"
      ],
      "text/plain": [
       "   MSZoning_C (all)  MSZoning_FV  MSZoning_RH  MSZoning_RL  MSZoning_RM  \\\n",
       "0                 0            0            0            1            0   \n",
       "1                 0            0            0            1            0   \n",
       "2                 0            0            0            1            0   \n",
       "3                 0            0            0            1            0   \n",
       "4                 0            0            0            1            0   \n",
       "\n",
       "   Street_Grvl  Street_Pave  Alley_Grvl  Alley_No_Alley  Alley_Pave  ...  \\\n",
       "0            0            1           0               1           0  ...   \n",
       "1            0            1           0               1           0  ...   \n",
       "2            0            1           0               1           0  ...   \n",
       "3            0            1           0               1           0  ...   \n",
       "4            0            1           0               1           0  ...   \n",
       "\n",
       "   SaleType_ConLw  SaleType_New  SaleType_Oth  SaleType_WD  \\\n",
       "0               0             0             0            1   \n",
       "1               0             0             0            1   \n",
       "2               0             0             0            1   \n",
       "3               0             0             0            1   \n",
       "4               0             0             0            1   \n",
       "\n",
       "   SaleCondition_Abnorml  SaleCondition_AdjLand  SaleCondition_Alloca  \\\n",
       "0                      0                      0                     0   \n",
       "1                      0                      0                     0   \n",
       "2                      0                      0                     0   \n",
       "3                      1                      0                     0   \n",
       "4                      0                      0                     0   \n",
       "\n",
       "   SaleCondition_Family  SaleCondition_Normal  SaleCondition_Partial  \n",
       "0                     0                     1                      0  \n",
       "1                     0                     1                      0  \n",
       "2                     0                     1                      0  \n",
       "3                     0                     0                      0  \n",
       "4                     0                     1                      0  \n",
       "\n",
       "[5 rows x 210 columns]"
      ]
     },
     "execution_count": 835,
     "metadata": {},
     "output_type": "execute_result"
    }
   ],
   "source": [
    "from sklearn.preprocessing import OneHotEncoder\n",
    "\n",
    "ohe = OneHotEncoder(handle_unknown='ignore')\n",
    "ohe.fit(train_categorical)\n",
    "\n",
    "ohe_categories = pd.DataFrame(ohe.transform(train_categorical).toarray(), \n",
    "                                  columns=list(ohe.get_feature_names_out()),\n",
    "                                  index=train_categorical.index, \n",
    "                                  dtype=int)\n",
    "ohe_categories.head()"
   ]
  },
  {
   "cell_type": "code",
   "execution_count": null,
   "metadata": {},
   "outputs": [
    {
     "data": {
      "text/plain": [
       "(1440, 275)"
      ]
     },
     "execution_count": 837,
     "metadata": {},
     "output_type": "execute_result"
    }
   ],
   "source": [
    "encoded_categorical = pd.concat([ohe_categories, label_encoded], axis=1)\n",
    "train = pd.concat([train_numerical, encoded_categorical], axis=1)\n",
    "train.shape"
   ]
  },
  {
   "cell_type": "code",
   "execution_count": null,
   "metadata": {},
   "outputs": [
    {
     "data": {
      "text/html": [
       "<div>\n",
       "<style scoped>\n",
       "    .dataframe tbody tr th:only-of-type {\n",
       "        vertical-align: middle;\n",
       "    }\n",
       "\n",
       "    .dataframe tbody tr th {\n",
       "        vertical-align: top;\n",
       "    }\n",
       "\n",
       "    .dataframe thead th {\n",
       "        text-align: right;\n",
       "    }\n",
       "</style>\n",
       "<table border=\"1\" class=\"dataframe\">\n",
       "  <thead>\n",
       "    <tr style=\"text-align: right;\">\n",
       "      <th></th>\n",
       "      <th>LotFrontage</th>\n",
       "      <th>LotArea</th>\n",
       "      <th>OverallQual</th>\n",
       "      <th>OverallCond</th>\n",
       "      <th>YearBuilt</th>\n",
       "      <th>YearRemodAdd</th>\n",
       "      <th>MasVnrArea</th>\n",
       "      <th>BsmtFinSF1</th>\n",
       "      <th>BsmtFinSF2</th>\n",
       "      <th>BsmtUnfSF</th>\n",
       "      <th>...</th>\n",
       "      <th>SaleCondition_AdjLand</th>\n",
       "      <th>SaleCondition_Alloca</th>\n",
       "      <th>SaleCondition_Family</th>\n",
       "      <th>SaleCondition_Normal</th>\n",
       "      <th>SaleCondition_Partial</th>\n",
       "      <th>Neighborhood</th>\n",
       "      <th>Exterior2nd</th>\n",
       "      <th>MSSubClass</th>\n",
       "      <th>Exterior1st</th>\n",
       "      <th>MoSold</th>\n",
       "    </tr>\n",
       "  </thead>\n",
       "  <tbody>\n",
       "    <tr>\n",
       "      <th>0</th>\n",
       "      <td>27.984138</td>\n",
       "      <td>25.596827</td>\n",
       "      <td>5.371388</td>\n",
       "      <td>2.969544</td>\n",
       "      <td>1.227833e+52</td>\n",
       "      <td>2003</td>\n",
       "      <td>20.742574</td>\n",
       "      <td>187.422818</td>\n",
       "      <td>0.0</td>\n",
       "      <td>30.411990</td>\n",
       "      <td>...</td>\n",
       "      <td>0</td>\n",
       "      <td>0</td>\n",
       "      <td>0</td>\n",
       "      <td>1</td>\n",
       "      <td>0</td>\n",
       "      <td>5</td>\n",
       "      <td>13</td>\n",
       "      <td>9</td>\n",
       "      <td>12</td>\n",
       "      <td>4</td>\n",
       "    </tr>\n",
       "    <tr>\n",
       "      <th>1</th>\n",
       "      <td>32.732085</td>\n",
       "      <td>26.389703</td>\n",
       "      <td>4.698377</td>\n",
       "      <td>4.123194</td>\n",
       "      <td>9.863929e+51</td>\n",
       "      <td>1976</td>\n",
       "      <td>0.000000</td>\n",
       "      <td>240.091021</td>\n",
       "      <td>0.0</td>\n",
       "      <td>44.853805</td>\n",
       "      <td>...</td>\n",
       "      <td>0</td>\n",
       "      <td>0</td>\n",
       "      <td>0</td>\n",
       "      <td>1</td>\n",
       "      <td>0</td>\n",
       "      <td>24</td>\n",
       "      <td>8</td>\n",
       "      <td>4</td>\n",
       "      <td>8</td>\n",
       "      <td>7</td>\n",
       "    </tr>\n",
       "    <tr>\n",
       "      <th>2</th>\n",
       "      <td>28.955087</td>\n",
       "      <td>27.403995</td>\n",
       "      <td>5.371388</td>\n",
       "      <td>2.969544</td>\n",
       "      <td>1.208203e+52</td>\n",
       "      <td>2002</td>\n",
       "      <td>18.912331</td>\n",
       "      <td>141.064416</td>\n",
       "      <td>0.0</td>\n",
       "      <td>57.909560</td>\n",
       "      <td>...</td>\n",
       "      <td>0</td>\n",
       "      <td>0</td>\n",
       "      <td>0</td>\n",
       "      <td>1</td>\n",
       "      <td>0</td>\n",
       "      <td>5</td>\n",
       "      <td>13</td>\n",
       "      <td>9</td>\n",
       "      <td>12</td>\n",
       "      <td>11</td>\n",
       "    </tr>\n",
       "    <tr>\n",
       "      <th>3</th>\n",
       "      <td>26.339098</td>\n",
       "      <td>26.356854</td>\n",
       "      <td>5.371388</td>\n",
       "      <td>2.969544</td>\n",
       "      <td>5.947678e+51</td>\n",
       "      <td>1970</td>\n",
       "      <td>0.000000</td>\n",
       "      <td>75.950004</td>\n",
       "      <td>0.0</td>\n",
       "      <td>66.014454</td>\n",
       "      <td>...</td>\n",
       "      <td>0</td>\n",
       "      <td>0</td>\n",
       "      <td>0</td>\n",
       "      <td>0</td>\n",
       "      <td>0</td>\n",
       "      <td>6</td>\n",
       "      <td>15</td>\n",
       "      <td>10</td>\n",
       "      <td>13</td>\n",
       "      <td>4</td>\n",
       "    </tr>\n",
       "    <tr>\n",
       "      <th>4</th>\n",
       "      <td>33.956964</td>\n",
       "      <td>28.981704</td>\n",
       "      <td>6.028013</td>\n",
       "      <td>2.969544</td>\n",
       "      <td>1.198498e+52</td>\n",
       "      <td>2000</td>\n",
       "      <td>27.356336</td>\n",
       "      <td>177.034852</td>\n",
       "      <td>0.0</td>\n",
       "      <td>62.282473</td>\n",
       "      <td>...</td>\n",
       "      <td>0</td>\n",
       "      <td>0</td>\n",
       "      <td>0</td>\n",
       "      <td>1</td>\n",
       "      <td>0</td>\n",
       "      <td>15</td>\n",
       "      <td>13</td>\n",
       "      <td>9</td>\n",
       "      <td>12</td>\n",
       "      <td>3</td>\n",
       "    </tr>\n",
       "  </tbody>\n",
       "</table>\n",
       "<p>5 rows × 275 columns</p>\n",
       "</div>"
      ],
      "text/plain": [
       "   LotFrontage    LotArea  OverallQual  OverallCond     YearBuilt  \\\n",
       "0    27.984138  25.596827     5.371388     2.969544  1.227833e+52   \n",
       "1    32.732085  26.389703     4.698377     4.123194  9.863929e+51   \n",
       "2    28.955087  27.403995     5.371388     2.969544  1.208203e+52   \n",
       "3    26.339098  26.356854     5.371388     2.969544  5.947678e+51   \n",
       "4    33.956964  28.981704     6.028013     2.969544  1.198498e+52   \n",
       "\n",
       "   YearRemodAdd  MasVnrArea  BsmtFinSF1  BsmtFinSF2  BsmtUnfSF  ...  \\\n",
       "0          2003   20.742574  187.422818         0.0  30.411990  ...   \n",
       "1          1976    0.000000  240.091021         0.0  44.853805  ...   \n",
       "2          2002   18.912331  141.064416         0.0  57.909560  ...   \n",
       "3          1970    0.000000   75.950004         0.0  66.014454  ...   \n",
       "4          2000   27.356336  177.034852         0.0  62.282473  ...   \n",
       "\n",
       "   SaleCondition_AdjLand  SaleCondition_Alloca  SaleCondition_Family  \\\n",
       "0                      0                     0                     0   \n",
       "1                      0                     0                     0   \n",
       "2                      0                     0                     0   \n",
       "3                      0                     0                     0   \n",
       "4                      0                     0                     0   \n",
       "\n",
       "   SaleCondition_Normal  SaleCondition_Partial  Neighborhood  Exterior2nd  \\\n",
       "0                     1                      0             5           13   \n",
       "1                     1                      0            24            8   \n",
       "2                     1                      0             5           13   \n",
       "3                     0                      0             6           15   \n",
       "4                     1                      0            15           13   \n",
       "\n",
       "   MSSubClass  Exterior1st  MoSold  \n",
       "0           9           12       4  \n",
       "1           4            8       7  \n",
       "2           9           12      11  \n",
       "3          10           13       4  \n",
       "4           9           12       3  \n",
       "\n",
       "[5 rows x 275 columns]"
      ]
     },
     "execution_count": 838,
     "metadata": {},
     "output_type": "execute_result"
    }
   ],
   "source": [
    "train.head()"
   ]
  },
  {
   "attachments": {},
   "cell_type": "markdown",
   "metadata": {},
   "source": [
    "# Data Separation"
   ]
  },
  {
   "cell_type": "code",
   "execution_count": null,
   "metadata": {},
   "outputs": [],
   "source": [
    "y = train[\"SalePrice\"]\n",
    "X = train.drop([\"SalePrice\"], axis=1)"
   ]
  },
  {
   "attachments": {},
   "cell_type": "markdown",
   "metadata": {},
   "source": [
    "# Scaling"
   ]
  },
  {
   "cell_type": "code",
   "execution_count": null,
   "metadata": {},
   "outputs": [],
   "source": [
    "from sklearn.preprocessing import StandardScaler\n",
    "\n",
    "scaler = StandardScaler()\n",
    "scaler.fit(X)\n",
    "\n",
    "X = pd.DataFrame(scaler.transform(X))"
   ]
  },
  {
   "cell_type": "code",
   "execution_count": null,
   "metadata": {},
   "outputs": [
    {
     "data": {
      "text/html": [
       "<div>\n",
       "<style scoped>\n",
       "    .dataframe tbody tr th:only-of-type {\n",
       "        vertical-align: middle;\n",
       "    }\n",
       "\n",
       "    .dataframe tbody tr th {\n",
       "        vertical-align: top;\n",
       "    }\n",
       "\n",
       "    .dataframe thead th {\n",
       "        text-align: right;\n",
       "    }\n",
       "</style>\n",
       "<table border=\"1\" class=\"dataframe\">\n",
       "  <thead>\n",
       "    <tr style=\"text-align: right;\">\n",
       "      <th></th>\n",
       "      <th>0</th>\n",
       "      <th>1</th>\n",
       "      <th>2</th>\n",
       "      <th>3</th>\n",
       "      <th>4</th>\n",
       "      <th>5</th>\n",
       "      <th>6</th>\n",
       "      <th>7</th>\n",
       "      <th>8</th>\n",
       "      <th>9</th>\n",
       "      <th>...</th>\n",
       "      <th>259</th>\n",
       "      <th>260</th>\n",
       "      <th>261</th>\n",
       "      <th>262</th>\n",
       "      <th>263</th>\n",
       "      <th>264</th>\n",
       "      <th>265</th>\n",
       "      <th>266</th>\n",
       "      <th>267</th>\n",
       "      <th>268</th>\n",
       "    </tr>\n",
       "  </thead>\n",
       "  <tbody>\n",
       "    <tr>\n",
       "      <th>0</th>\n",
       "      <td>-0.189973</td>\n",
       "      <td>-0.166168</td>\n",
       "      <td>0.679707</td>\n",
       "      <td>-0.500591</td>\n",
       "      <td>1.125774</td>\n",
       "      <td>0.878641</td>\n",
       "      <td>1.023098</td>\n",
       "      <td>0.717083</td>\n",
       "      <td>-0.347161</td>\n",
       "      <td>-0.940272</td>\n",
       "      <td>...</td>\n",
       "      <td>-0.059028</td>\n",
       "      <td>-0.30288</td>\n",
       "      <td>-0.045691</td>\n",
       "      <td>0.391053</td>\n",
       "      <td>-0.268750</td>\n",
       "      <td>-0.052778</td>\n",
       "      <td>-0.09167</td>\n",
       "      <td>-0.118678</td>\n",
       "      <td>0.466095</td>\n",
       "      <td>-0.306961</td>\n",
       "    </tr>\n",
       "    <tr>\n",
       "      <th>1</th>\n",
       "      <td>0.544591</td>\n",
       "      <td>0.099585</td>\n",
       "      <td>-0.043937</td>\n",
       "      <td>2.087460</td>\n",
       "      <td>0.046338</td>\n",
       "      <td>-0.428929</td>\n",
       "      <td>-0.744266</td>\n",
       "      <td>1.233698</td>\n",
       "      <td>-0.347161</td>\n",
       "      <td>-0.508328</td>\n",
       "      <td>...</td>\n",
       "      <td>-0.059028</td>\n",
       "      <td>-0.30288</td>\n",
       "      <td>-0.045691</td>\n",
       "      <td>0.391053</td>\n",
       "      <td>-0.268750</td>\n",
       "      <td>-0.052778</td>\n",
       "      <td>-0.09167</td>\n",
       "      <td>-0.118678</td>\n",
       "      <td>0.466095</td>\n",
       "      <td>-0.306961</td>\n",
       "    </tr>\n",
       "    <tr>\n",
       "      <th>2</th>\n",
       "      <td>-0.039755</td>\n",
       "      <td>0.439551</td>\n",
       "      <td>0.679707</td>\n",
       "      <td>-0.500591</td>\n",
       "      <td>1.038009</td>\n",
       "      <td>0.830213</td>\n",
       "      <td>0.867153</td>\n",
       "      <td>0.262360</td>\n",
       "      <td>-0.347161</td>\n",
       "      <td>-0.117841</td>\n",
       "      <td>...</td>\n",
       "      <td>-0.059028</td>\n",
       "      <td>-0.30288</td>\n",
       "      <td>-0.045691</td>\n",
       "      <td>0.391053</td>\n",
       "      <td>-0.268750</td>\n",
       "      <td>-0.052778</td>\n",
       "      <td>-0.09167</td>\n",
       "      <td>-0.118678</td>\n",
       "      <td>0.466095</td>\n",
       "      <td>-0.306961</td>\n",
       "    </tr>\n",
       "    <tr>\n",
       "      <th>3</th>\n",
       "      <td>-0.444480</td>\n",
       "      <td>0.088575</td>\n",
       "      <td>0.679707</td>\n",
       "      <td>-0.500591</td>\n",
       "      <td>-1.704547</td>\n",
       "      <td>-0.719500</td>\n",
       "      <td>-0.744266</td>\n",
       "      <td>-0.376339</td>\n",
       "      <td>-0.347161</td>\n",
       "      <td>0.124571</td>\n",
       "      <td>...</td>\n",
       "      <td>-0.059028</td>\n",
       "      <td>-0.30288</td>\n",
       "      <td>-0.045691</td>\n",
       "      <td>0.391053</td>\n",
       "      <td>3.720935</td>\n",
       "      <td>-0.052778</td>\n",
       "      <td>-0.09167</td>\n",
       "      <td>-0.118678</td>\n",
       "      <td>-2.145487</td>\n",
       "      <td>-0.306961</td>\n",
       "    </tr>\n",
       "    <tr>\n",
       "      <th>4</th>\n",
       "      <td>0.734094</td>\n",
       "      <td>0.968360</td>\n",
       "      <td>1.385733</td>\n",
       "      <td>-0.500591</td>\n",
       "      <td>0.994622</td>\n",
       "      <td>0.733356</td>\n",
       "      <td>1.586622</td>\n",
       "      <td>0.615189</td>\n",
       "      <td>-0.347161</td>\n",
       "      <td>0.012950</td>\n",
       "      <td>...</td>\n",
       "      <td>-0.059028</td>\n",
       "      <td>-0.30288</td>\n",
       "      <td>-0.045691</td>\n",
       "      <td>0.391053</td>\n",
       "      <td>-0.268750</td>\n",
       "      <td>-0.052778</td>\n",
       "      <td>-0.09167</td>\n",
       "      <td>-0.118678</td>\n",
       "      <td>0.466095</td>\n",
       "      <td>-0.306961</td>\n",
       "    </tr>\n",
       "  </tbody>\n",
       "</table>\n",
       "<p>5 rows × 269 columns</p>\n",
       "</div>"
      ],
      "text/plain": [
       "        0         1         2         3         4         5         6    \\\n",
       "0 -0.189973 -0.166168  0.679707 -0.500591  1.125774  0.878641  1.023098   \n",
       "1  0.544591  0.099585 -0.043937  2.087460  0.046338 -0.428929 -0.744266   \n",
       "2 -0.039755  0.439551  0.679707 -0.500591  1.038009  0.830213  0.867153   \n",
       "3 -0.444480  0.088575  0.679707 -0.500591 -1.704547 -0.719500 -0.744266   \n",
       "4  0.734094  0.968360  1.385733 -0.500591  0.994622  0.733356  1.586622   \n",
       "\n",
       "        7         8         9    ...       259      260       261       262  \\\n",
       "0  0.717083 -0.347161 -0.940272  ... -0.059028 -0.30288 -0.045691  0.391053   \n",
       "1  1.233698 -0.347161 -0.508328  ... -0.059028 -0.30288 -0.045691  0.391053   \n",
       "2  0.262360 -0.347161 -0.117841  ... -0.059028 -0.30288 -0.045691  0.391053   \n",
       "3 -0.376339 -0.347161  0.124571  ... -0.059028 -0.30288 -0.045691  0.391053   \n",
       "4  0.615189 -0.347161  0.012950  ... -0.059028 -0.30288 -0.045691  0.391053   \n",
       "\n",
       "        263       264      265       266       267       268  \n",
       "0 -0.268750 -0.052778 -0.09167 -0.118678  0.466095 -0.306961  \n",
       "1 -0.268750 -0.052778 -0.09167 -0.118678  0.466095 -0.306961  \n",
       "2 -0.268750 -0.052778 -0.09167 -0.118678  0.466095 -0.306961  \n",
       "3  3.720935 -0.052778 -0.09167 -0.118678 -2.145487 -0.306961  \n",
       "4 -0.268750 -0.052778 -0.09167 -0.118678  0.466095 -0.306961  \n",
       "\n",
       "[5 rows x 269 columns]"
      ]
     },
     "execution_count": 712,
     "metadata": {},
     "output_type": "execute_result"
    }
   ],
   "source": [
    "X.head()"
   ]
  },
  {
   "cell_type": "code",
   "execution_count": null,
   "metadata": {},
   "outputs": [
    {
     "data": {
      "text/plain": [
       "0       8.183684\n",
       "1       8.125233\n",
       "2       8.212749\n",
       "3       8.014255\n",
       "4       8.259327\n",
       "          ...   \n",
       "1455    8.109766\n",
       "1456    8.186690\n",
       "1457    8.285729\n",
       "1458    8.020751\n",
       "1459    8.036727\n",
       "Name: SalePrice, Length: 1440, dtype: float64"
      ]
     },
     "execution_count": 713,
     "metadata": {},
     "output_type": "execute_result"
    }
   ],
   "source": [
    "y"
   ]
  },
  {
   "cell_type": "code",
   "execution_count": null,
   "metadata": {},
   "outputs": [
    {
     "data": {
      "text/plain": [
       "((1440, 269), (1440,))"
      ]
     },
     "execution_count": 714,
     "metadata": {},
     "output_type": "execute_result"
    }
   ],
   "source": [
    "X.shape, y.shape"
   ]
  },
  {
   "attachments": {},
   "cell_type": "markdown",
   "metadata": {},
   "source": [
    "# Modeling"
   ]
  },
  {
   "attachments": {},
   "cell_type": "markdown",
   "metadata": {},
   "source": [
    "Inspiration:\n",
    "- https://www.kaggle.com/code/jesucristo/1-house-prices-solution-top-1/notebook#Models \n",
    "- https://www.kaggle.com/code/niteshx2/top-50-beginners-stacking-lgb-xgb/notebook#Now-,-we-are-getting-started-with-the-process-of-modelling "
   ]
  },
  {
   "cell_type": "code",
   "execution_count": null,
   "metadata": {},
   "outputs": [],
   "source": [
    "from sklearn.linear_model import ElasticNetCV, LassoCV, RidgeCV\n",
    "from sklearn.ensemble import GradientBoostingRegressor\n",
    "from sklearn.svm import SVR\n",
    "from sklearn.pipeline import make_pipeline\n",
    "from sklearn.preprocessing import RobustScaler\n",
    "from sklearn.model_selection import KFold, cross_val_score\n",
    "from sklearn.metrics import mean_squared_error\n",
    "from mlxtend.regressor import StackingCVRegressor\n",
    "from xgboost import XGBRegressor\n",
    "from lightgbm import LGBMRegressor\n",
    "from datetime import datetime\n",
    "import numpy as np\n",
    "\n",
    "kfolds = KFold(n_splits=10, shuffle=True, random_state=42)\n",
    "\n",
    "def rmsle(y, y_pred):\n",
    "    return np.sqrt(mean_squared_error(y, y_pred))\n",
    "\n",
    "def cv_rmse(model, X=X, y=y):\n",
    "    rmse = np.sqrt(-cross_val_score(model, X, y, scoring=\"neg_mean_squared_error\", cv=kfolds))\n",
    "    return (rmse)"
   ]
  },
  {
   "cell_type": "code",
   "execution_count": null,
   "metadata": {},
   "outputs": [],
   "source": [
    "alphas_alt = [14.5, 14.6, 14.7, 14.8, 14.9, 15, 15.1, 15.2, 15.3, 15.4, 15.5]\n",
    "alphas2 = [5e-05, 0.0001, 0.0002, 0.0003, 0.0004, 0.0005, 0.0006, 0.0007, 0.0008]\n",
    "e_alphas = [0.0001, 0.0002, 0.0003, 0.0004, 0.0005, 0.0006, 0.0007]\n",
    "e_l1ratio = [0.8, 0.85, 0.9, 0.95, 0.99, 1]"
   ]
  },
  {
   "cell_type": "code",
   "execution_count": null,
   "metadata": {},
   "outputs": [],
   "source": [
    "ridge = make_pipeline(RobustScaler(), RidgeCV(alphas=alphas_alt, cv=kfolds))\n",
    "lasso = make_pipeline(RobustScaler(), LassoCV(max_iter=int(1e5), alphas=alphas2, random_state=42, cv=kfolds))\n",
    "elasticnet = make_pipeline(RobustScaler(), ElasticNetCV(max_iter=int(1e5), alphas=e_alphas, cv=kfolds, l1_ratio=e_l1ratio))                                \n",
    "svr = make_pipeline(RobustScaler(), SVR(C= 20, epsilon= 0.008, gamma=0.0003,))"
   ]
  },
  {
   "cell_type": "code",
   "execution_count": null,
   "metadata": {},
   "outputs": [],
   "source": [
    "gbr = GradientBoostingRegressor(\n",
    "    n_estimators=3000, \n",
    "    learning_rate=0.05,\n",
    "    max_depth=4, \n",
    "    max_features='sqrt', \n",
    "    min_samples_leaf=15, \n",
    "    min_samples_split=10, \n",
    "    loss='huber', \n",
    "    random_state =42\n",
    ") "
   ]
  },
  {
   "cell_type": "code",
   "execution_count": null,
   "metadata": {},
   "outputs": [],
   "source": [
    "lightgbm = LGBMRegressor(objective='regression', \n",
    "                                       num_leaves=4,\n",
    "                                       learning_rate=0.01, \n",
    "                                       n_estimators=5000,\n",
    "                                       max_bin=200, \n",
    "                                       bagging_fraction=0.75,\n",
    "                                       bagging_freq=5, \n",
    "                                       bagging_seed=7,\n",
    "                                       feature_fraction=0.2,\n",
    "                                       feature_fraction_seed=7,\n",
    "                                       verbose=-1,\n",
    "                                       )"
   ]
  },
  {
   "cell_type": "code",
   "execution_count": null,
   "metadata": {},
   "outputs": [],
   "source": [
    "xgboost = XGBRegressor(learning_rate=0.01,n_estimators=3460,\n",
    "                                     max_depth=3, min_child_weight=0,\n",
    "                                     gamma=0, subsample=0.7,\n",
    "                                     colsample_bytree=0.7,\n",
    "                                     objective='reg:linear', nthread=-1,    # reg:squarederror\n",
    "                                     scale_pos_weight=1, seed=27,\n",
    "                                     reg_alpha=0.00006)"
   ]
  },
  {
   "cell_type": "code",
   "execution_count": null,
   "metadata": {},
   "outputs": [],
   "source": [
    "stack_gen = StackingCVRegressor(regressors=(ridge, lasso, elasticnet, gbr, xgboost, lightgbm),\n",
    "                                meta_regressor=xgboost,\n",
    "                                use_features_in_secondary=True)"
   ]
  },
  {
   "cell_type": "code",
   "execution_count": null,
   "metadata": {},
   "outputs": [
    {
     "name": "stdout",
     "output_type": "stream",
     "text": [
      "TEST score on CV\n",
      "Kernel Ridge score: 0.0544 (0.0097)\n",
      " 2023-04-12 14:39:29.290738\n",
      "LASSO: 0.0519 (0.0095)\n",
      " 2023-04-12 14:39:39.883890\n",
      "elastic net: 0.0520 (0.0095)\n",
      " 2023-04-12 14:40:17.107332\n",
      "SVR: 0.0547 (0.0078)\n",
      " 2023-04-12 14:40:22.877463\n",
      "[LightGBM] [Warning] feature_fraction is set=0.2, colsample_bytree=1.0 will be ignored. Current value: feature_fraction=0.2\n",
      "[LightGBM] [Warning] bagging_fraction is set=0.75, subsample=1.0 will be ignored. Current value: bagging_fraction=0.75\n",
      "[LightGBM] [Warning] bagging_freq is set=5, subsample_freq=0 will be ignored. Current value: bagging_freq=5\n",
      "[LightGBM] [Warning] feature_fraction is set=0.2, colsample_bytree=1.0 will be ignored. Current value: feature_fraction=0.2\n",
      "[LightGBM] [Warning] bagging_fraction is set=0.75, subsample=1.0 will be ignored. Current value: bagging_fraction=0.75\n",
      "[LightGBM] [Warning] bagging_freq is set=5, subsample_freq=0 will be ignored. Current value: bagging_freq=5\n",
      "[LightGBM] [Warning] feature_fraction is set=0.2, colsample_bytree=1.0 will be ignored. Current value: feature_fraction=0.2\n",
      "[LightGBM] [Warning] bagging_fraction is set=0.75, subsample=1.0 will be ignored. Current value: bagging_fraction=0.75\n",
      "[LightGBM] [Warning] bagging_freq is set=5, subsample_freq=0 will be ignored. Current value: bagging_freq=5\n",
      "[LightGBM] [Warning] feature_fraction is set=0.2, colsample_bytree=1.0 will be ignored. Current value: feature_fraction=0.2\n",
      "[LightGBM] [Warning] bagging_fraction is set=0.75, subsample=1.0 will be ignored. Current value: bagging_fraction=0.75\n",
      "[LightGBM] [Warning] bagging_freq is set=5, subsample_freq=0 will be ignored. Current value: bagging_freq=5\n",
      "[LightGBM] [Warning] feature_fraction is set=0.2, colsample_bytree=1.0 will be ignored. Current value: feature_fraction=0.2\n",
      "[LightGBM] [Warning] bagging_fraction is set=0.75, subsample=1.0 will be ignored. Current value: bagging_fraction=0.75\n",
      "[LightGBM] [Warning] bagging_freq is set=5, subsample_freq=0 will be ignored. Current value: bagging_freq=5\n",
      "[LightGBM] [Warning] feature_fraction is set=0.2, colsample_bytree=1.0 will be ignored. Current value: feature_fraction=0.2\n",
      "[LightGBM] [Warning] bagging_fraction is set=0.75, subsample=1.0 will be ignored. Current value: bagging_fraction=0.75\n",
      "[LightGBM] [Warning] bagging_freq is set=5, subsample_freq=0 will be ignored. Current value: bagging_freq=5\n",
      "[LightGBM] [Warning] feature_fraction is set=0.2, colsample_bytree=1.0 will be ignored. Current value: feature_fraction=0.2\n",
      "[LightGBM] [Warning] bagging_fraction is set=0.75, subsample=1.0 will be ignored. Current value: bagging_fraction=0.75\n",
      "[LightGBM] [Warning] bagging_freq is set=5, subsample_freq=0 will be ignored. Current value: bagging_freq=5\n",
      "[LightGBM] [Warning] feature_fraction is set=0.2, colsample_bytree=1.0 will be ignored. Current value: feature_fraction=0.2\n",
      "[LightGBM] [Warning] bagging_fraction is set=0.75, subsample=1.0 will be ignored. Current value: bagging_fraction=0.75\n",
      "[LightGBM] [Warning] bagging_freq is set=5, subsample_freq=0 will be ignored. Current value: bagging_freq=5\n",
      "[LightGBM] [Warning] feature_fraction is set=0.2, colsample_bytree=1.0 will be ignored. Current value: feature_fraction=0.2\n",
      "[LightGBM] [Warning] bagging_fraction is set=0.75, subsample=1.0 will be ignored. Current value: bagging_fraction=0.75\n",
      "[LightGBM] [Warning] bagging_freq is set=5, subsample_freq=0 will be ignored. Current value: bagging_freq=5\n",
      "[LightGBM] [Warning] feature_fraction is set=0.2, colsample_bytree=1.0 will be ignored. Current value: feature_fraction=0.2\n",
      "[LightGBM] [Warning] bagging_fraction is set=0.75, subsample=1.0 will be ignored. Current value: bagging_fraction=0.75\n",
      "[LightGBM] [Warning] bagging_freq is set=5, subsample_freq=0 will be ignored. Current value: bagging_freq=5\n",
      "lightgbm: 0.0488 (0.0069)\n",
      " 2023-04-12 14:40:44.839567\n",
      "gbr: 0.0491 (0.0073)\n",
      " 2023-04-12 14:42:47.639461\n",
      "[14:42:47] WARNING: c:\\users\\dev-admin\\croot2\\xgboost-split_1675461376218\\work\\src\\objective\\regression_obj.cu:213: reg:linear is now deprecated in favor of reg:squarederror.\n",
      "[14:42:56] WARNING: c:\\users\\dev-admin\\croot2\\xgboost-split_1675461376218\\work\\src\\objective\\regression_obj.cu:213: reg:linear is now deprecated in favor of reg:squarederror.\n",
      "[14:43:06] WARNING: c:\\users\\dev-admin\\croot2\\xgboost-split_1675461376218\\work\\src\\objective\\regression_obj.cu:213: reg:linear is now deprecated in favor of reg:squarederror.\n",
      "[14:43:15] WARNING: c:\\users\\dev-admin\\croot2\\xgboost-split_1675461376218\\work\\src\\objective\\regression_obj.cu:213: reg:linear is now deprecated in favor of reg:squarederror.\n",
      "[14:43:26] WARNING: c:\\users\\dev-admin\\croot2\\xgboost-split_1675461376218\\work\\src\\objective\\regression_obj.cu:213: reg:linear is now deprecated in favor of reg:squarederror.\n",
      "[14:43:37] WARNING: c:\\users\\dev-admin\\croot2\\xgboost-split_1675461376218\\work\\src\\objective\\regression_obj.cu:213: reg:linear is now deprecated in favor of reg:squarederror.\n",
      "[14:43:47] WARNING: c:\\users\\dev-admin\\croot2\\xgboost-split_1675461376218\\work\\src\\objective\\regression_obj.cu:213: reg:linear is now deprecated in favor of reg:squarederror.\n",
      "[14:43:57] WARNING: c:\\users\\dev-admin\\croot2\\xgboost-split_1675461376218\\work\\src\\objective\\regression_obj.cu:213: reg:linear is now deprecated in favor of reg:squarederror.\n",
      "[14:44:07] WARNING: c:\\users\\dev-admin\\croot2\\xgboost-split_1675461376218\\work\\src\\objective\\regression_obj.cu:213: reg:linear is now deprecated in favor of reg:squarederror.\n",
      "[14:44:18] WARNING: c:\\users\\dev-admin\\croot2\\xgboost-split_1675461376218\\work\\src\\objective\\regression_obj.cu:213: reg:linear is now deprecated in favor of reg:squarederror.\n",
      "xgboost: 0.0485 (0.0058)\n",
      " 2023-04-12 14:44:28.701848\n"
     ]
    }
   ],
   "source": [
    "print('TEST score on CV')\n",
    "\n",
    "score = cv_rmse(ridge)\n",
    "print(\"Kernel Ridge score: {:.4f} ({:.4f})\\n\".format(score.mean(), score.std()), datetime.now(), )\n",
    "\n",
    "score = cv_rmse(lasso)\n",
    "print(\"LASSO: {:.4f} ({:.4f})\\n\".format(score.mean(), score.std()), datetime.now(), )\n",
    "\n",
    "score = cv_rmse(elasticnet)\n",
    "print(\"elastic net: {:.4f} ({:.4f})\\n\".format(score.mean(), score.std()), datetime.now(), )\n",
    "\n",
    "score = cv_rmse(svr)\n",
    "print(\"SVR: {:.4f} ({:.4f})\\n\".format(score.mean(), score.std()), datetime.now(), )\n",
    "\n",
    "score = cv_rmse(lightgbm)\n",
    "print(\"lightgbm: {:.4f} ({:.4f})\\n\".format(score.mean(), score.std()), datetime.now(), )\n",
    "\n",
    "score = cv_rmse(gbr)\n",
    "print(\"gbr: {:.4f} ({:.4f})\\n\".format(score.mean(), score.std()), datetime.now(), )\n",
    "\n",
    "score = cv_rmse(xgboost)\n",
    "print(\"xgboost: {:.4f} ({:.4f})\\n\".format(score.mean(), score.std()), datetime.now(), )"
   ]
  },
  {
   "cell_type": "code",
   "execution_count": null,
   "metadata": {},
   "outputs": [
    {
     "name": "stdout",
     "output_type": "stream",
     "text": [
      "START Fit\n",
      "stack_gen\n",
      "[14:45:51] WARNING: c:\\users\\dev-admin\\croot2\\xgboost-split_1675461376218\\work\\src\\objective\\regression_obj.cu:213: reg:linear is now deprecated in favor of reg:squarederror.\n",
      "[14:45:55] WARNING: c:\\users\\dev-admin\\croot2\\xgboost-split_1675461376218\\work\\src\\objective\\regression_obj.cu:213: reg:linear is now deprecated in favor of reg:squarederror.\n",
      "[14:46:00] WARNING: c:\\users\\dev-admin\\croot2\\xgboost-split_1675461376218\\work\\src\\objective\\regression_obj.cu:213: reg:linear is now deprecated in favor of reg:squarederror.\n",
      "[14:46:06] WARNING: c:\\users\\dev-admin\\croot2\\xgboost-split_1675461376218\\work\\src\\objective\\regression_obj.cu:213: reg:linear is now deprecated in favor of reg:squarederror.\n",
      "[14:46:12] WARNING: c:\\users\\dev-admin\\croot2\\xgboost-split_1675461376218\\work\\src\\objective\\regression_obj.cu:213: reg:linear is now deprecated in favor of reg:squarederror.\n",
      "[LightGBM] [Warning] feature_fraction is set=0.2, colsample_bytree=1.0 will be ignored. Current value: feature_fraction=0.2\n",
      "[LightGBM] [Warning] bagging_fraction is set=0.75, subsample=1.0 will be ignored. Current value: bagging_fraction=0.75\n",
      "[LightGBM] [Warning] bagging_freq is set=5, subsample_freq=0 will be ignored. Current value: bagging_freq=5\n",
      "[LightGBM] [Warning] feature_fraction is set=0.2, colsample_bytree=1.0 will be ignored. Current value: feature_fraction=0.2\n",
      "[LightGBM] [Warning] bagging_fraction is set=0.75, subsample=1.0 will be ignored. Current value: bagging_fraction=0.75\n",
      "[LightGBM] [Warning] bagging_freq is set=5, subsample_freq=0 will be ignored. Current value: bagging_freq=5\n",
      "[LightGBM] [Warning] feature_fraction is set=0.2, colsample_bytree=1.0 will be ignored. Current value: feature_fraction=0.2\n",
      "[LightGBM] [Warning] bagging_fraction is set=0.75, subsample=1.0 will be ignored. Current value: bagging_fraction=0.75\n",
      "[LightGBM] [Warning] bagging_freq is set=5, subsample_freq=0 will be ignored. Current value: bagging_freq=5\n",
      "[LightGBM] [Warning] feature_fraction is set=0.2, colsample_bytree=1.0 will be ignored. Current value: feature_fraction=0.2\n",
      "[LightGBM] [Warning] bagging_fraction is set=0.75, subsample=1.0 will be ignored. Current value: bagging_fraction=0.75\n",
      "[LightGBM] [Warning] bagging_freq is set=5, subsample_freq=0 will be ignored. Current value: bagging_freq=5\n",
      "[LightGBM] [Warning] feature_fraction is set=0.2, colsample_bytree=1.0 will be ignored. Current value: feature_fraction=0.2\n",
      "[LightGBM] [Warning] bagging_fraction is set=0.75, subsample=1.0 will be ignored. Current value: bagging_fraction=0.75\n",
      "[LightGBM] [Warning] bagging_freq is set=5, subsample_freq=0 will be ignored. Current value: bagging_freq=5\n",
      "[14:46:27] WARNING: c:\\users\\dev-admin\\croot2\\xgboost-split_1675461376218\\work\\src\\objective\\regression_obj.cu:213: reg:linear is now deprecated in favor of reg:squarederror.\n",
      "[14:46:51] WARNING: c:\\users\\dev-admin\\croot2\\xgboost-split_1675461376218\\work\\src\\objective\\regression_obj.cu:213: reg:linear is now deprecated in favor of reg:squarederror.\n",
      "[LightGBM] [Warning] feature_fraction is set=0.2, colsample_bytree=1.0 will be ignored. Current value: feature_fraction=0.2\n",
      "[LightGBM] [Warning] bagging_fraction is set=0.75, subsample=1.0 will be ignored. Current value: bagging_fraction=0.75\n",
      "[LightGBM] [Warning] bagging_freq is set=5, subsample_freq=0 will be ignored. Current value: bagging_freq=5\n",
      "elasticnet\n",
      "Lasso\n",
      "Ridge\n",
      "Svr\n",
      "GradientBoosting\n",
      "xgboost\n",
      "[14:47:16] WARNING: c:\\users\\dev-admin\\croot2\\xgboost-split_1675461376218\\work\\src\\objective\\regression_obj.cu:213: reg:linear is now deprecated in favor of reg:squarederror.\n",
      "lightgbm\n"
     ]
    }
   ],
   "source": [
    "print('START Fit')\n",
    "\n",
    "print('stack_gen')\n",
    "stack_gen_model = stack_gen.fit(np.array(X), np.array(y))\n",
    "\n",
    "print('elasticnet')\n",
    "elastic_model_full_data = elasticnet.fit(X, y)\n",
    "\n",
    "print('Lasso')\n",
    "lasso_model_full_data = lasso.fit(X, y)\n",
    "\n",
    "print('Ridge')\n",
    "ridge_model_full_data = ridge.fit(X, y)\n",
    "\n",
    "print('Svr')\n",
    "svr_model_full_data = svr.fit(X, y)\n",
    "\n",
    "print('GradientBoosting')\n",
    "gbr_model_full_data = gbr.fit(X, y)\n",
    "\n",
    "print('xgboost')\n",
    "xgb_model_full_data = xgboost.fit(X, y)\n",
    "\n",
    "print('lightgbm')\n",
    "lgb_model_full_data = lightgbm.fit(X, y)"
   ]
  },
  {
   "cell_type": "code",
   "execution_count": null,
   "metadata": {},
   "outputs": [],
   "source": [
    "def blend_models_predict(X):\n",
    "    return ((0.1 * elastic_model_full_data.predict(X)) + \\\n",
    "            (0.05 * lasso_model_full_data.predict(X)) + \\\n",
    "            (0.1 * ridge_model_full_data.predict(X)) + \\\n",
    "            (0.1 * svr_model_full_data.predict(X)) + \\\n",
    "            (0.1 * gbr_model_full_data.predict(X)) + \\\n",
    "            (0.15 * xgb_model_full_data.predict(X)) + \\\n",
    "            (0.1 * lgb_model_full_data.predict(X)) + \\\n",
    "            (0.3 * stack_gen_model.predict(np.array(X))))"
   ]
  },
  {
   "cell_type": "code",
   "execution_count": null,
   "metadata": {},
   "outputs": [
    {
     "name": "stdout",
     "output_type": "stream",
     "text": [
      "RMSLE score on train data:\n",
      "0.023300188399391374\n"
     ]
    }
   ],
   "source": [
    "print('RMSLE score on train data:')\n",
    "print(rmsle(y, blend_models_predict(X)))"
   ]
  },
  {
   "attachments": {},
   "cell_type": "markdown",
   "metadata": {},
   "source": [
    "# Submission\n",
    "\n",
    "Now I repeat the same PreProcessing process as I did for Training Set\n",
    "\n",
    "**But**, I must **only** use statistical data and scalers trained on training set!"
   ]
  },
  {
   "cell_type": "code",
   "execution_count": null,
   "metadata": {},
   "outputs": [
    {
     "data": {
      "text/html": [
       "<div>\n",
       "<style scoped>\n",
       "    .dataframe tbody tr th:only-of-type {\n",
       "        vertical-align: middle;\n",
       "    }\n",
       "\n",
       "    .dataframe tbody tr th {\n",
       "        vertical-align: top;\n",
       "    }\n",
       "\n",
       "    .dataframe thead th {\n",
       "        text-align: right;\n",
       "    }\n",
       "</style>\n",
       "<table border=\"1\" class=\"dataframe\">\n",
       "  <thead>\n",
       "    <tr style=\"text-align: right;\">\n",
       "      <th></th>\n",
       "      <th>Missing Ratio</th>\n",
       "    </tr>\n",
       "  </thead>\n",
       "  <tbody>\n",
       "    <tr>\n",
       "      <th>PoolQC</th>\n",
       "      <td>99.794380</td>\n",
       "    </tr>\n",
       "    <tr>\n",
       "      <th>MiscFeature</th>\n",
       "      <td>96.504455</td>\n",
       "    </tr>\n",
       "    <tr>\n",
       "      <th>Alley</th>\n",
       "      <td>92.666210</td>\n",
       "    </tr>\n",
       "    <tr>\n",
       "      <th>Fence</th>\n",
       "      <td>80.123372</td>\n",
       "    </tr>\n",
       "    <tr>\n",
       "      <th>FireplaceQu</th>\n",
       "      <td>50.034270</td>\n",
       "    </tr>\n",
       "  </tbody>\n",
       "</table>\n",
       "</div>"
      ],
      "text/plain": [
       "             Missing Ratio\n",
       "PoolQC           99.794380\n",
       "MiscFeature      96.504455\n",
       "Alley            92.666210\n",
       "Fence            80.123372\n",
       "FireplaceQu      50.034270"
      ]
     },
     "execution_count": 726,
     "metadata": {},
     "output_type": "execute_result"
    }
   ],
   "source": [
    "test = pd.read_csv(\"./dataset/test.csv\")\n",
    "test.drop(['Id'], axis=1, inplace=True)\n",
    "        \n",
    "# Transforming fake numerical features to categorical features\n",
    "for ntc in num_to_category:\n",
    "    test[ntc] = test[ntc].apply(str)\n",
    "    \n",
    "# Missing Values\n",
    "all_data_na = (test.isnull().sum() / len(test)) * 100\n",
    "all_data_na = all_data_na.drop(all_data_na[all_data_na == 0].index).sort_values(ascending=False)\n",
    "missing_data = pd.DataFrame({\"Missing Ratio\" :all_data_na})\n",
    "missing_data.head(5)"
   ]
  },
  {
   "cell_type": "code",
   "execution_count": null,
   "metadata": {},
   "outputs": [
    {
     "data": {
      "text/html": [
       "<div>\n",
       "<style scoped>\n",
       "    .dataframe tbody tr th:only-of-type {\n",
       "        vertical-align: middle;\n",
       "    }\n",
       "\n",
       "    .dataframe tbody tr th {\n",
       "        vertical-align: top;\n",
       "    }\n",
       "\n",
       "    .dataframe thead th {\n",
       "        text-align: right;\n",
       "    }\n",
       "</style>\n",
       "<table border=\"1\" class=\"dataframe\">\n",
       "  <thead>\n",
       "    <tr style=\"text-align: right;\">\n",
       "      <th></th>\n",
       "      <th>Missing Ratio</th>\n",
       "    </tr>\n",
       "  </thead>\n",
       "  <tbody>\n",
       "  </tbody>\n",
       "</table>\n",
       "</div>"
      ],
      "text/plain": [
       "Empty DataFrame\n",
       "Columns: [Missing Ratio]\n",
       "Index: []"
      ]
     },
     "execution_count": 727,
     "metadata": {},
     "output_type": "execute_result"
    }
   ],
   "source": [
    "# Missing Values\n",
    "for col in (\"PoolQC\", \"MiscFeature\", \"Alley\", \"Fence\", \"FireplaceQu\"):\n",
    "    test[col] = test[col].fillna(\"No_\" + col)\n",
    "\n",
    "for col in (\"GarageType\", \"GarageFinish\", \"GarageQual\", \"GarageCond\"):\n",
    "    test[col] = test[col].fillna(\"No_Garage\")\n",
    "   \n",
    "for col in (\"GarageYrBlt\", \"GarageArea\", \"GarageCars\"):\n",
    "    test[col] = test[col].fillna(0)\n",
    "   \n",
    "for col in (\"BsmtFinSF1\", \"BsmtFinSF2\", \"BsmtUnfSF\",\"TotalBsmtSF\", \"BsmtFullBath\", \"BsmtHalfBath\"):\n",
    "    test[col] = test[col].fillna(0)\n",
    "   \n",
    "for col in (\"BsmtQual\", \"BsmtCond\", \"BsmtExposure\", \"BsmtFinType1\", \"BsmtFinType2\"):\n",
    "    test[col] = test[col].fillna(\"No_\" + col)\n",
    "\n",
    "for col in (\"MSZoning\", \"Electrical\", \"KitchenQual\", \"Exterior1st\", \"Exterior2nd\", \"SaleType\"):\n",
    "    test[col] = test[col].fillna(train_modes_to_fill[col])\n",
    "   \n",
    "test[\"LotFrontage\"] = test.groupby(\"Neighborhood\")[\"LotFrontage\"].transform(lambda x: x.fillna(means_lot_frontage[x.name]))\n",
    "test.drop(['Utilities'], axis=1, inplace=True)\n",
    "\n",
    "test[\"MasVnrArea\"] = test[\"MasVnrArea\"].fillna(0)\n",
    "test[\"MasVnrType\"] = test[\"MasVnrType\"].fillna(\"None\")\n",
    "test[\"Functional\"] = test[\"Functional\"].fillna(\"Typ\")\n",
    "\n",
    "all_data_na = (test.isnull().sum() / len(test)) * 100\n",
    "all_data_na = all_data_na.drop(all_data_na[all_data_na == 0].index).sort_values(ascending=False)\n",
    "missing_data = pd.DataFrame({\"Missing Ratio\" :all_data_na})\n",
    "missing_data.head(5)"
   ]
  },
  {
   "cell_type": "code",
   "execution_count": null,
   "metadata": {},
   "outputs": [],
   "source": [
    "# Feature Engineering\n",
    "test[\"BsmtFinType1_Unf\"] = 1*(test[\"BsmtFinType1\"] == \"Unf\")\n",
    "test[\"HasWoodDeck\"] = (test[\"WoodDeckSF\"] == 0) * 1\n",
    "test[\"HasOpenPorch\"] = (test[\"OpenPorchSF\"] == 0) * 1\n",
    "test[\"HasEnclosedPorch\"] = (test[\"EnclosedPorch\"] == 0) * 1\n",
    "test[\"Has3SsnPorch\"] = (test[\"3SsnPorch\"] == 0) * 1\n",
    "test[\"HasScreenPorch\"] = (test[\"ScreenPorch\"] == 0) * 1\n",
    "test[\"YearsSinceRemodel\"] = test[\"YrSold\"].astype(int) - test[\"YearRemodAdd\"].astype(int)\n",
    "test[\"Total_Home_Quality\"] = test[\"OverallQual\"] + test[\"OverallCond\"]\n",
    "test[\"TotalSF\"] = test[\"TotalBsmtSF\"] + test[\"1stFlrSF\"] + test[\"2ndFlrSF\"]\n",
    "test[\"YrBltAndRemod\"] = test[\"YearBuilt\"] + test[\"YearRemodAdd\"]\n",
    "\n",
    "test[\"Total_sqr_footage\"] = (test[\"BsmtFinSF1\"] + test[\"BsmtFinSF2\"] + test[\"1stFlrSF\"] + test[\"2ndFlrSF\"])\n",
    "test[\"Total_Bathrooms\"] = (test[\"FullBath\"] + (0.5 * test[\"HalfBath\"]) + test[\"BsmtFullBath\"] + (0.5 * test[\"BsmtHalfBath\"]))\n",
    "test[\"Total_porch_sf\"] = (test[\"OpenPorchSF\"] + test[\"3SsnPorch\"] + test[\"EnclosedPorch\"] + test[\"ScreenPorch\"] + test[\"WoodDeckSF\"])\n",
    "\n",
    "test[\"haspool\"] = test[\"PoolArea\"].apply(lambda x: 1 if x > 0 else 0)\n",
    "test[\"has2ndfloor\"] = test[\"2ndFlrSF\"].apply(lambda x: 1 if x > 0 else 0)\n",
    "test[\"hasgarage\"] = test[\"GarageArea\"].apply(lambda x: 1 if x > 0 else 0)\n",
    "test[\"hasbsmt\"] = test[\"TotalBsmtSF\"].apply(lambda x: 1 if x > 0 else 0)\n",
    "test[\"hasfireplace\"] = test[\"Fireplaces\"].apply(lambda x: 1 if x > 0 else 0)\n",
    "\n",
    "# Feature Engineering: Updated new features\n",
    "test[\"YearRemodAdd_super_old\"] = 1 * (test[\"YearRemodAdd\"] <= 1950)\n",
    "\n",
    "new_zero_features = (\"MasVnrArea\", \"BsmtFinSF1\", \"BsmtFinSF2\", \"BsmtUnfSF\", \"LowQualFinSF\", \"GarageYrBlt\", \"MiscVal\")\n",
    "for col in new_zero_features:\n",
    "    test[col+\"_zero\"] = 1 * (test[col]  == 0)"
   ]
  },
  {
   "cell_type": "code",
   "execution_count": null,
   "metadata": {},
   "outputs": [],
   "source": [
    "# Distribution Normalisation\n",
    "original_numeric_features.remove(\"SalePrice\")   # Test set doesn't have target numerical variable\n",
    "for feature_name in original_numeric_features:\n",
    "    test[feature_name] = boxcox1p(test[feature_name], boxcox_num_feature_max[feature_name])"
   ]
  },
  {
   "cell_type": "code",
   "execution_count": null,
   "metadata": {},
   "outputs": [],
   "source": [
    "# Encoding Categorical features\n",
    "test_categorical = test.select_dtypes(include=\"object\")\n",
    "test_numerical = test.select_dtypes(exclude=\"object\")\n",
    "\n",
    "# Label Encoding\n",
    "label_categories = test_categorical[bad_encoding_features.index]\n",
    "test_categorical.drop(bad_encoding_features.index, axis=1, inplace=True);\n",
    "label_encoded_test = pd.DataFrame(oe.transform(label_categories), \n",
    "                            columns=list(oe.get_feature_names_out()),\n",
    "                            index=test_categorical.index, \n",
    "                            dtype=int)\n",
    "label_encoded_test.head()"
   ]
  },
  {
   "cell_type": "code",
   "execution_count": null,
   "metadata": {},
   "outputs": [
    {
     "data": {
      "text/plain": [
       "(1459, 269)"
      ]
     },
     "execution_count": 731,
     "metadata": {},
     "output_type": "execute_result"
    }
   ],
   "source": [
    "ohe_categories = pd.DataFrame(ohe.transform(test_categorical).toarray(), \n",
    "                                  columns=list(ohe.get_feature_names_out()),\n",
    "                                  index=test_categorical.index, \n",
    "                                  dtype=int)\n",
    "ohe_categories.head()\n",
    "\n",
    "\n",
    "encoded_categorical = pd.concat([ohe_categories, label_encoded_test], axis=1)\n",
    "test = pd.concat([test_numerical, encoded_categorical], axis=1)\n",
    "test.shape"
   ]
  },
  {
   "cell_type": "code",
   "execution_count": null,
   "metadata": {},
   "outputs": [
    {
     "data": {
      "text/html": [
       "<div>\n",
       "<style scoped>\n",
       "    .dataframe tbody tr th:only-of-type {\n",
       "        vertical-align: middle;\n",
       "    }\n",
       "\n",
       "    .dataframe tbody tr th {\n",
       "        vertical-align: top;\n",
       "    }\n",
       "\n",
       "    .dataframe thead th {\n",
       "        text-align: right;\n",
       "    }\n",
       "</style>\n",
       "<table border=\"1\" class=\"dataframe\">\n",
       "  <thead>\n",
       "    <tr style=\"text-align: right;\">\n",
       "      <th></th>\n",
       "      <th>0</th>\n",
       "      <th>1</th>\n",
       "      <th>2</th>\n",
       "      <th>3</th>\n",
       "      <th>4</th>\n",
       "      <th>5</th>\n",
       "      <th>6</th>\n",
       "      <th>7</th>\n",
       "      <th>8</th>\n",
       "      <th>9</th>\n",
       "      <th>...</th>\n",
       "      <th>259</th>\n",
       "      <th>260</th>\n",
       "      <th>261</th>\n",
       "      <th>262</th>\n",
       "      <th>263</th>\n",
       "      <th>264</th>\n",
       "      <th>265</th>\n",
       "      <th>266</th>\n",
       "      <th>267</th>\n",
       "      <th>268</th>\n",
       "    </tr>\n",
       "  </thead>\n",
       "  <tbody>\n",
       "    <tr>\n",
       "      <th>0</th>\n",
       "      <td>0.544591</td>\n",
       "      <td>0.510629</td>\n",
       "      <td>-0.788275</td>\n",
       "      <td>0.419242</td>\n",
       "      <td>-0.463806</td>\n",
       "      <td>-1.155356</td>\n",
       "      <td>-0.744266</td>\n",
       "      <td>0.223149</td>\n",
       "      <td>2.103716</td>\n",
       "      <td>-0.548734</td>\n",
       "      <td>...</td>\n",
       "      <td>-0.059028</td>\n",
       "      <td>-0.30288</td>\n",
       "      <td>-0.045691</td>\n",
       "      <td>0.391053</td>\n",
       "      <td>-0.26875</td>\n",
       "      <td>-0.052778</td>\n",
       "      <td>-0.09167</td>\n",
       "      <td>-0.118678</td>\n",
       "      <td>0.466095</td>\n",
       "      <td>-0.306961</td>\n",
       "    </tr>\n",
       "    <tr>\n",
       "      <th>1</th>\n",
       "      <td>0.592197</td>\n",
       "      <td>0.969481</td>\n",
       "      <td>-0.043937</td>\n",
       "      <td>0.419242</td>\n",
       "      <td>-0.558951</td>\n",
       "      <td>-1.300642</td>\n",
       "      <td>0.575818</td>\n",
       "      <td>1.132406</td>\n",
       "      <td>-0.347161</td>\n",
       "      <td>-0.185855</td>\n",
       "      <td>...</td>\n",
       "      <td>-0.059028</td>\n",
       "      <td>-0.30288</td>\n",
       "      <td>-0.045691</td>\n",
       "      <td>0.391053</td>\n",
       "      <td>-0.26875</td>\n",
       "      <td>-0.052778</td>\n",
       "      <td>-0.09167</td>\n",
       "      <td>-0.118678</td>\n",
       "      <td>0.466095</td>\n",
       "      <td>-0.306961</td>\n",
       "    </tr>\n",
       "    <tr>\n",
       "      <th>2</th>\n",
       "      <td>0.255551</td>\n",
       "      <td>0.898646</td>\n",
       "      <td>-0.788275</td>\n",
       "      <td>-0.500591</td>\n",
       "      <td>0.866414</td>\n",
       "      <td>0.636499</td>\n",
       "      <td>-0.744266</td>\n",
       "      <td>0.883028</td>\n",
       "      <td>-0.347161</td>\n",
       "      <td>-0.989520</td>\n",
       "      <td>...</td>\n",
       "      <td>-0.059028</td>\n",
       "      <td>-0.30288</td>\n",
       "      <td>-0.045691</td>\n",
       "      <td>0.391053</td>\n",
       "      <td>-0.26875</td>\n",
       "      <td>-0.052778</td>\n",
       "      <td>-0.09167</td>\n",
       "      <td>-0.118678</td>\n",
       "      <td>0.466095</td>\n",
       "      <td>-0.306961</td>\n",
       "    </tr>\n",
       "    <tr>\n",
       "      <th>3</th>\n",
       "      <td>0.448902</td>\n",
       "      <td>0.181371</td>\n",
       "      <td>-0.043937</td>\n",
       "      <td>0.419242</td>\n",
       "      <td>0.908827</td>\n",
       "      <td>0.636499</td>\n",
       "      <td>-0.201612</td>\n",
       "      <td>0.507227</td>\n",
       "      <td>-0.347161</td>\n",
       "      <td>-0.397206</td>\n",
       "      <td>...</td>\n",
       "      <td>-0.059028</td>\n",
       "      <td>-0.30288</td>\n",
       "      <td>-0.045691</td>\n",
       "      <td>0.391053</td>\n",
       "      <td>-0.26875</td>\n",
       "      <td>-0.052778</td>\n",
       "      <td>-0.09167</td>\n",
       "      <td>-0.118678</td>\n",
       "      <td>0.466095</td>\n",
       "      <td>-0.306961</td>\n",
       "    </tr>\n",
       "    <tr>\n",
       "      <th>4</th>\n",
       "      <td>-1.356317</td>\n",
       "      <td>-1.188382</td>\n",
       "      <td>1.385733</td>\n",
       "      <td>-0.500591</td>\n",
       "      <td>0.659108</td>\n",
       "      <td>0.345928</td>\n",
       "      <td>-0.744266</td>\n",
       "      <td>-0.255228</td>\n",
       "      <td>-0.347161</td>\n",
       "      <td>1.030045</td>\n",
       "      <td>...</td>\n",
       "      <td>-0.059028</td>\n",
       "      <td>-0.30288</td>\n",
       "      <td>-0.045691</td>\n",
       "      <td>0.391053</td>\n",
       "      <td>-0.26875</td>\n",
       "      <td>-0.052778</td>\n",
       "      <td>-0.09167</td>\n",
       "      <td>-0.118678</td>\n",
       "      <td>0.466095</td>\n",
       "      <td>-0.306961</td>\n",
       "    </tr>\n",
       "  </tbody>\n",
       "</table>\n",
       "<p>5 rows × 269 columns</p>\n",
       "</div>"
      ],
      "text/plain": [
       "        0         1         2         3         4         5         6    \\\n",
       "0  0.544591  0.510629 -0.788275  0.419242 -0.463806 -1.155356 -0.744266   \n",
       "1  0.592197  0.969481 -0.043937  0.419242 -0.558951 -1.300642  0.575818   \n",
       "2  0.255551  0.898646 -0.788275 -0.500591  0.866414  0.636499 -0.744266   \n",
       "3  0.448902  0.181371 -0.043937  0.419242  0.908827  0.636499 -0.201612   \n",
       "4 -1.356317 -1.188382  1.385733 -0.500591  0.659108  0.345928 -0.744266   \n",
       "\n",
       "        7         8         9    ...       259      260       261       262  \\\n",
       "0  0.223149  2.103716 -0.548734  ... -0.059028 -0.30288 -0.045691  0.391053   \n",
       "1  1.132406 -0.347161 -0.185855  ... -0.059028 -0.30288 -0.045691  0.391053   \n",
       "2  0.883028 -0.347161 -0.989520  ... -0.059028 -0.30288 -0.045691  0.391053   \n",
       "3  0.507227 -0.347161 -0.397206  ... -0.059028 -0.30288 -0.045691  0.391053   \n",
       "4 -0.255228 -0.347161  1.030045  ... -0.059028 -0.30288 -0.045691  0.391053   \n",
       "\n",
       "       263       264      265       266       267       268  \n",
       "0 -0.26875 -0.052778 -0.09167 -0.118678  0.466095 -0.306961  \n",
       "1 -0.26875 -0.052778 -0.09167 -0.118678  0.466095 -0.306961  \n",
       "2 -0.26875 -0.052778 -0.09167 -0.118678  0.466095 -0.306961  \n",
       "3 -0.26875 -0.052778 -0.09167 -0.118678  0.466095 -0.306961  \n",
       "4 -0.26875 -0.052778 -0.09167 -0.118678  0.466095 -0.306961  \n",
       "\n",
       "[5 rows x 269 columns]"
      ]
     },
     "execution_count": 732,
     "metadata": {},
     "output_type": "execute_result"
    }
   ],
   "source": [
    "# Scaling\n",
    "X_test = pd.DataFrame(scaler.transform(test))\n",
    "X_test.head()"
   ]
  },
  {
   "cell_type": "code",
   "execution_count": null,
   "metadata": {},
   "outputs": [
    {
     "data": {
      "text/plain": [
       "array([124654.71991111, 163308.89780728, 186077.09342449, ...,\n",
       "       174882.28750362, 115983.44894514, 228516.11185557])"
      ]
     },
     "execution_count": 733,
     "metadata": {},
     "output_type": "execute_result"
    }
   ],
   "source": [
    "# Predicting Test Set\n",
    "y_hat = inv_boxcox1p(blend_models_predict(X_test), boxcox_num_feature_max[\"SalePrice\"])\n",
    "y_hat"
   ]
  },
  {
   "cell_type": "code",
   "execution_count": null,
   "metadata": {},
   "outputs": [
    {
     "data": {
      "text/html": [
       "<div>\n",
       "<style scoped>\n",
       "    .dataframe tbody tr th:only-of-type {\n",
       "        vertical-align: middle;\n",
       "    }\n",
       "\n",
       "    .dataframe tbody tr th {\n",
       "        vertical-align: top;\n",
       "    }\n",
       "\n",
       "    .dataframe thead th {\n",
       "        text-align: right;\n",
       "    }\n",
       "</style>\n",
       "<table border=\"1\" class=\"dataframe\">\n",
       "  <thead>\n",
       "    <tr style=\"text-align: right;\">\n",
       "      <th></th>\n",
       "      <th>Id</th>\n",
       "      <th>SalePrice</th>\n",
       "    </tr>\n",
       "  </thead>\n",
       "  <tbody>\n",
       "    <tr>\n",
       "      <th>0</th>\n",
       "      <td>1461</td>\n",
       "      <td>124654.719911</td>\n",
       "    </tr>\n",
       "    <tr>\n",
       "      <th>1</th>\n",
       "      <td>1462</td>\n",
       "      <td>163308.897807</td>\n",
       "    </tr>\n",
       "    <tr>\n",
       "      <th>2</th>\n",
       "      <td>1463</td>\n",
       "      <td>186077.093424</td>\n",
       "    </tr>\n",
       "    <tr>\n",
       "      <th>3</th>\n",
       "      <td>1464</td>\n",
       "      <td>197320.949124</td>\n",
       "    </tr>\n",
       "    <tr>\n",
       "      <th>4</th>\n",
       "      <td>1465</td>\n",
       "      <td>187455.452060</td>\n",
       "    </tr>\n",
       "  </tbody>\n",
       "</table>\n",
       "</div>"
      ],
      "text/plain": [
       "     Id      SalePrice\n",
       "0  1461  124654.719911\n",
       "1  1462  163308.897807\n",
       "2  1463  186077.093424\n",
       "3  1464  197320.949124\n",
       "4  1465  187455.452060"
      ]
     },
     "execution_count": 734,
     "metadata": {},
     "output_type": "execute_result"
    }
   ],
   "source": [
    "submission = pd.read_csv(\"./dataset/sample_submission.csv\")\n",
    "my_submission = pd.DataFrame({'Id': submission.Id, 'SalePrice': y_hat})\n",
    "my_submission.head()"
   ]
  },
  {
   "cell_type": "code",
   "execution_count": null,
   "metadata": {},
   "outputs": [],
   "source": [
    "my_submission.to_csv('submission_BL8.csv', index=False)"
   ]
  },
  {
   "attachments": {},
   "cell_type": "markdown",
   "metadata": {},
   "source": [
    "Final Score: 0.12188"
   ]
  }
 ],
 "metadata": {
  "kernelspec": {
   "display_name": "kaggle_house",
   "language": "python",
   "name": "python3"
  },
  "language_info": {
   "codemirror_mode": {
    "name": "ipython",
    "version": 3
   },
   "file_extension": ".py",
   "mimetype": "text/x-python",
   "name": "python",
   "nbconvert_exporter": "python",
   "pygments_lexer": "ipython3",
   "version": "3.8.16"
  },
  "orig_nbformat": 4,
  "vscode": {
   "interpreter": {
    "hash": "7779dcf3a2275509eb18a1e3e6e48387e666540c6cffd80879c44740c7e448af"
   }
  }
 },
 "nbformat": 4,
 "nbformat_minor": 2
}
